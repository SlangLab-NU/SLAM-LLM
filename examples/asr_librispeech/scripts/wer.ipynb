{
 "cells": [
  {
   "cell_type": "code",
   "execution_count": 1,
   "metadata": {},
   "outputs": [],
   "source": [
    "folder = \"/work/van-speech-nlp/jindaznb/jslpnb/mllm_expriments/slam-llm/out/train/ami_pho_mono-20240819/asr_epoch_3_step_5768\""
   ]
  },
  {
   "cell_type": "code",
   "execution_count": 3,
   "metadata": {},
   "outputs": [
    {
     "name": "stdout",
     "output_type": "stream",
     "text": [
      "Number of GT lines: 1257\n",
      "Number of PRED lines: 1257\n",
      "Word Error Rate (WER): 3.835485903291857\n"
     ]
    }
   ],
   "source": [
    "from jiwer import wer\n",
    "\n",
    "# Function to read and process the file\n",
    "def read_and_process_file(file_path):\n",
    "    with open(file_path, 'r') as file:\n",
    "        lines = file.readlines()\n",
    "\n",
    "    processed_lines = []\n",
    "    for line in lines:\n",
    "        parts = line.split('\\t')\n",
    "        if len(parts) > 1:\n",
    "            processed_lines.append(parts[1].strip())\n",
    "    \n",
    "    return processed_lines\n",
    "\n",
    "# Read and process GT file\n",
    "gt_file_path = f\"{folder}/decode_test_beam4_gt\"\n",
    "gt = read_and_process_file(gt_file_path)\n",
    "\n",
    "# Read and process PRED file\n",
    "pred_file_path = f\"{folder}/decode_test_beam4_pred\"\n",
    "pred = read_and_process_file(pred_file_path)\n",
    "\n",
    "# Print lengths of GT and PRED lists to ensure they are the same\n",
    "print(f\"Number of GT lines: {len(gt)}\")\n",
    "print(f\"Number of PRED lines: {len(pred)}\")\n",
    "\n",
    "# Calculate WER\n",
    "if len(gt) == len(pred):\n",
    "    wer_score = wer(gt, pred)\n",
    "    print(f\"Word Error Rate (WER): {wer_score}\")\n",
    "else:\n",
    "    print(\"Error: The number of lines in the GT and PRED files do not match.\")\n",
    "        "
   ]
  },
  {
   "cell_type": "code",
   "execution_count": null,
   "metadata": {},
   "outputs": [],
   "source": []
  }
 ],
 "metadata": {
  "kernelspec": {
   "display_name": "Python 3 (ipykernel)",
   "language": "python",
   "name": "python3"
  },
  "language_info": {
   "codemirror_mode": {
    "name": "ipython",
    "version": 3
   },
   "file_extension": ".py",
   "mimetype": "text/x-python",
   "name": "python",
   "nbconvert_exporter": "python",
   "pygments_lexer": "ipython3",
   "version": "3.10.14"
  }
 },
 "nbformat": 4,
 "nbformat_minor": 4
}
