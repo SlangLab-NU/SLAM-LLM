{
 "cells": [
  {
   "cell_type": "code",
   "execution_count": 3,
   "metadata": {},
   "outputs": [
    {
     "name": "stdout",
     "output_type": "stream",
     "text": [
      "Empty entries found at lines: [3464]\n"
     ]
    }
   ],
   "source": [
    "def check_empty_entries(data):\n",
    "    empty_lines = []\n",
    "    \n",
    "    # Iterate through each line in the data\n",
    "    for index, line in enumerate(data):\n",
    "        # Split the line by tab characters\n",
    "        parts = line.split(\"\\t\")\n",
    "        \n",
    "        # Ensure there are at least two parts (ID and transcription) and check if transcription is empty\n",
    "        if len(parts) < 2 or not parts[1].strip():\n",
    "            empty_lines.append(index + 1)  # Append 1-based index of the line\n",
    "    \n",
    "    return empty_lines\n",
    "\n",
    "# Function to load data from a plain text file without suffix\n",
    "def load_text_data(file_path):\n",
    "    with open(file_path, 'r') as f:\n",
    "        data = f.readlines()  # Read all lines from the file\n",
    "    return data\n",
    "\n",
    "# Function to process the plain text file and check for empty entries\n",
    "def process_file(file_path):\n",
    "    # Load the data from the plain text file\n",
    "    data = load_text_data(file_path)\n",
    "    \n",
    "    # Check for empty entries\n",
    "    empty_lines = check_empty_entries(data)\n",
    "    \n",
    "    # Output the result\n",
    "    if empty_lines:\n",
    "        print(f\"Empty entries found at lines: {empty_lines}\")\n",
    "    else:\n",
    "        print(\"No empty entries found.\")\n",
    "\n",
    "# Example of using the process_file function\n",
    "file_path = \"/work/van-speech-nlp/jindaznb/jslpnb/mllm_experiments/slam-llm/out/librispeech-100_phoneme_seperate_wavlm_TinyLlama_linear_peft_multitask_separate/decode_test_beam4_gt\"  # Replace with the actual file path\n",
    "process_file(file_path)"
   ]
  },
  {
   "cell_type": "code",
   "execution_count": 2,
   "metadata": {},
   "outputs": [
    {
     "name": "stdout",
     "output_type": "stream",
     "text": [
      "Number of GT lines: 7545\n",
      "Number of PRED lines: 7545\n",
      "Word Error Rate (WER): 0.20521010789324248\n"
     ]
    }
   ],
   "source": [
    "!python wer.py --folder /work/van-speech-nlp/jindaznb/jslpnb/mllm_experiments/slam-llm/out/ami_phoneme_only_wavlm_TinyLlama_linear_peft_phoneme_seperate"
   ]
  },
  {
   "cell_type": "code",
   "execution_count": 3,
   "metadata": {},
   "outputs": [
    {
     "name": "stdout",
     "output_type": "stream",
     "text": [
      "Number of GT lines: 7546\n",
      "Number of PRED lines: 7546\n",
      "Word Error Rate (WER): 0.19850082547797837\n"
     ]
    }
   ],
   "source": [
    "!python wer.py --folder /work/van-speech-nlp/jindaznb/jslpnb/mllm_experiments/slam-llm/out/ami_wavlm_TinyLlama_linear_peft"
   ]
  },
  {
   "cell_type": "code",
   "execution_count": 4,
   "metadata": {},
   "outputs": [
    {
     "name": "stdout",
     "output_type": "stream",
     "text": [
      "Number of GT ASR lines: 7546\n",
      "Number of PRED ASR lines: 7546\n",
      "Number of GT Phoneme lines: 7545\n",
      "Number of PRED Phoneme lines: 7545\n",
      "\n",
      "First 2 ASR lines from GT file:\n",
      "yeah\n",
      "yeah we're gonna meet up\n",
      "\n",
      "First 2 ASR lines from PRED file:\n",
      "yeah\n",
      "yeah we're gonna meet up\n",
      "\n",
      "First 2 Phoneme lines from GT file:\n",
      "Y AE\n",
      "Y AE  W IY 'R EY  G AA N AH  M IY T  AH P\n",
      "\n",
      "First 2 Phoneme lines from PRED file:\n",
      "Y AE\n",
      "Y AE  W IY 'R EY  G AA N AH  M IY T  AH P\n",
      "Word Error Rate (WER) for ASR: 0.43034280857493623\n",
      "Phoneme Error Rate (PER) for phoneme recognition: 0.24804561802006436\n"
     ]
    }
   ],
   "source": [
    "!python wer-seperate.py --folder /work/van-speech-nlp/jindaznb/jslpnb/mllm_experiments/slam-llm/out/ami_phoneme_seperate_wavlm_TinyLlama_linear_peft_phoneme_seperate"
   ]
  },
  {
   "cell_type": "code",
   "execution_count": null,
   "metadata": {},
   "outputs": [],
   "source": []
  }
 ],
 "metadata": {
  "kernelspec": {
   "display_name": "Python 3",
   "language": "python",
   "name": "python3"
  },
  "language_info": {
   "codemirror_mode": {
    "name": "ipython",
    "version": 3
   },
   "file_extension": ".py",
   "mimetype": "text/x-python",
   "name": "python",
   "nbconvert_exporter": "python",
   "pygments_lexer": "ipython3",
   "version": "3.10.14"
  },
  "orig_nbformat": 4
 },
 "nbformat": 4,
 "nbformat_minor": 2
}
