{
  "cells": [
    {
      "cell_type": "code",
      "execution_count": 3,
      "metadata": {
        "colab": {
          "base_uri": "https://localhost:8080/"
        },
        "id": "WdrEfUdRIOZA",
        "outputId": "bf653aeb-36f1-46d1-e389-5146ca2b7ced"
      },
      "outputs": [],
      "source": [
        "# !pip install confidence_intervals\n",
        "from confidence_intervals import evaluate_with_conf_int"
      ]
    },
    {
      "cell_type": "markdown",
      "metadata": {
        "id": "Mo-NDDOyIqpU"
      },
      "source": [
        "# 2. Sample data loader"
      ]
    },
    {
      "cell_type": "code",
      "execution_count": 9,
      "metadata": {},
      "outputs": [],
      "source": [
        "from jiwer import wer\n",
        "import numpy as np"
      ]
    },
    {
      "cell_type": "code",
      "execution_count": 4,
      "metadata": {
        "colab": {
          "base_uri": "https://localhost:8080/"
        },
        "id": "InijLMcUIqT9",
        "outputId": "dae5161f-6dfc-4b63-97f5-ef45a3a7a1b5"
      },
      "outputs": [
        {
          "name": "stdout",
          "output_type": "stream",
          "text": [
            "GT len: 652\n",
            "Pred len: 652\n",
            "Ground Truth Sample: ['ACWT01a-BNT01-house\\tEY HH AW S\\n', 'ACWT01a-BNT02-comb\\tK OW M\\n', 'ACWT01a-BNT03-toothbrush\\tB R AH SH\\n', 'ACWT01a-BNT04-octopus\\tAA G T AH P UH S\\n', 'ACWT01a-BNT05-bench\\tCH EY R\\n']\n",
            "Predictions Sample: ['ACWT01a-BNT01-house\\tHH AE M AH K\\n', 'ACWT01a-BNT02-comb\\tK OW M\\n', 'ACWT01a-BNT03-toothbrush\\tG R AH SH\\n', 'ACWT01a-BNT04-octopus\\tAA K T AH P UH S\\n', 'ACWT01a-BNT05-bench\\tCH EY R\\n']\n"
          ]
        }
      ],
      "source": [
        "psst_gt_path = '/work/van-speech-nlp/jindaznb/jslpnb/mllm_experiments/mllm_baselines/ConfidenceIntervals/data/psst_phoneme_baseline_gt_0.97.txt'\n",
        "psst_pred_path = '/work/van-speech-nlp/jindaznb/jslpnb/mllm_experiments/mllm_baselines/ConfidenceIntervals/data/psst_phoneme_baseline_pred_0.97.txt'\n",
        "\n",
        "# load gt file\n",
        "with open(psst_gt_path, \"r\", encoding=\"utf-8\") as gt_file:\n",
        "    ground_truth = gt_file.readlines()\n",
        "\n",
        "# load pred file\n",
        "with open(psst_pred_path, \"r\", encoding=\"utf-8\") as pred_file:\n",
        "    predictions = pred_file.readlines()\n",
        "\n",
        "print(\"GT len:\", len(ground_truth))\n",
        "print(\"Pred len:\", len(predictions))\n",
        "print(\"Ground Truth Sample:\", ground_truth[:5])\n",
        "print(\"Predictions Sample:\", predictions[:5])"
      ]
    },
    {
      "cell_type": "markdown",
      "metadata": {
        "id": "RqrXDVhcNWLu"
      },
      "source": [
        "# 3. WER Calculation per utterance (line?) jiwer just for testing"
      ]
    },
    {
      "cell_type": "code",
      "execution_count": 7,
      "metadata": {
        "colab": {
          "base_uri": "https://localhost:8080/"
        },
        "id": "zQeProaZNa-F",
        "outputId": "dcd00a2a-3ac0-460e-8344-e88e63a4baaf"
      },
      "outputs": [
        {
          "name": "stdout",
          "output_type": "stream",
          "text": [
            "GT len: 652\n",
            "Pred len: 652\n",
            "Intersec len 652\n",
            "First 10 PER values: [0.16666666666666666, 0.5, 0.25, 1.0, 0.0, 1.0, 0.4, 0.3333333333333333, 1.6666666666666667, 0.4]\n"
          ]
        }
      ],
      "source": [
        "# parse ground truth and predictions\n",
        "def parse_phoneme_data(lines):\n",
        "    \"\"\"\n",
        "    Extracts utterance IDs and phoneme sequences from the input file.\n",
        "    \"\"\"\n",
        "    phoneme_dict = {}\n",
        "    for line in lines:\n",
        "        parts = line.strip().split(\"\\t\")\n",
        "        if len(parts) == 2:\n",
        "            utterance_id, phoneme_seq = parts\n",
        "            phoneme_dict[utterance_id] = phoneme_seq\n",
        "    return phoneme_dict\n",
        "\n",
        "# convert raw lines into dictionaries\n",
        "ground_truth_dict = parse_phoneme_data(ground_truth)\n",
        "predictions_dict = parse_phoneme_data(predictions)\n",
        "\n",
        "\n",
        "print(\"GT len:\", len(list(ground_truth_dict.items())))\n",
        "print(\"Pred len:\", len(list(predictions_dict.items())))\n",
        "\n",
        "common_utterances = set(ground_truth_dict.keys()) & set(predictions_dict.keys())\n",
        "\n",
        "print(\"Intersec len\", len(common_utterances))\n",
        "\n",
        "# compute PER per utterance\n",
        "per_values = []\n",
        "for utt in common_utterances:\n",
        "    gt_phonemes = ground_truth_dict[utt]\n",
        "    pred_phonemes = predictions_dict[utt]\n",
        "\n",
        "    # compute Phoneme Error Rate (PER)\n",
        "    per = wer(gt_phonemes, pred_phonemes)\n",
        "    per_values.append(per)\n",
        "\n",
        "print(f\"First 10 PER values: {per_values[:10]}\")"
      ]
    },
    {
      "cell_type": "markdown",
      "metadata": {
        "id": "lLBWSf82OHiw"
      },
      "source": [
        "# 4. Confidence Internal Calculation"
      ]
    },
    {
      "cell_type": "code",
      "execution_count": 10,
      "metadata": {
        "colab": {
          "base_uri": "https://localhost:8080/"
        },
        "id": "1PI3iPbHOK6f",
        "outputId": "73d800a0-e58b-4ed3-8ec8-39a5c1074468"
      },
      "outputs": [
        {
          "name": "stdout",
          "output_type": "stream",
          "text": [
            "Full dataset: 0.7468\n",
            "lower & upper bound: (0.6151, 0.8902)\n"
          ]
        }
      ],
      "source": [
        "confidence_interval = evaluate_with_conf_int(np.array(per_values), np.mean, num_bootstraps=1000, alpha=5)\n",
        "\n",
        "print(f\"Full dataset: {confidence_interval[0]:.4f}\")\n",
        "print(f\"lower & upper bound: ({confidence_interval[1][0]:.4f}, {confidence_interval[1][1]:.4f})\")"
      ]
    }
  ],
  "metadata": {
    "colab": {
      "provenance": []
    },
    "kernelspec": {
      "display_name": "Python 3",
      "name": "python3"
    },
    "language_info": {
      "codemirror_mode": {
        "name": "ipython",
        "version": 3
      },
      "file_extension": ".py",
      "mimetype": "text/x-python",
      "name": "python",
      "nbconvert_exporter": "python",
      "pygments_lexer": "ipython3",
      "version": "3.10.14"
    }
  },
  "nbformat": 4,
  "nbformat_minor": 0
}
