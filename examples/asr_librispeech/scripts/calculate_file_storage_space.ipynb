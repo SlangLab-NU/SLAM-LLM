{
 "cells": [
  {
   "cell_type": "code",
   "execution_count": 4,
   "metadata": {},
   "outputs": [
    {
     "ename": "KeyboardInterrupt",
     "evalue": "",
     "output_type": "error",
     "traceback": [
      "\u001b[0;31m---------------------------------------------------------------------------\u001b[0m",
      "\u001b[0;31mKeyboardInterrupt\u001b[0m                         Traceback (most recent call last)",
      "Cell \u001b[0;32mIn[4], line 23\u001b[0m\n\u001b[1;32m     20\u001b[0m     \u001b[39mreturn\u001b[39;00m total_duration, audio_file_count\n\u001b[1;32m     22\u001b[0m folder_path \u001b[39m=\u001b[39m \u001b[39m\"\u001b[39m\u001b[39m/work/van-speech-nlp/jindaznb/jslpnb/mllm_experiments/aphasia/data_processed/audios\u001b[39m\u001b[39m\"\u001b[39m\n\u001b[0;32m---> 23\u001b[0m total_duration_seconds, audio_count \u001b[39m=\u001b[39m get_total_audio_duration(folder_path)\n\u001b[1;32m     24\u001b[0m total_duration_hours \u001b[39m=\u001b[39m total_duration_seconds \u001b[39m/\u001b[39m \u001b[39m3600\u001b[39m\n\u001b[1;32m     26\u001b[0m \u001b[39mprint\u001b[39m(\u001b[39mf\u001b[39m\u001b[39m\"\u001b[39m\u001b[39mTotal number of audio files: \u001b[39m\u001b[39m{\u001b[39;00maudio_count\u001b[39m}\u001b[39;00m\u001b[39m\"\u001b[39m)\n",
      "Cell \u001b[0;32mIn[4], line 15\u001b[0m, in \u001b[0;36mget_total_audio_duration\u001b[0;34m(folder)\u001b[0m\n\u001b[1;32m     12\u001b[0m \u001b[39mif\u001b[39;00m \u001b[39mnot\u001b[39;00m os\u001b[39m.\u001b[39mpath\u001b[39m.\u001b[39mislink(filepath):\n\u001b[1;32m     13\u001b[0m     \u001b[39mtry\u001b[39;00m:\n\u001b[1;32m     14\u001b[0m         \u001b[39m# Get the duration of the audio file\u001b[39;00m\n\u001b[0;32m---> 15\u001b[0m         duration \u001b[39m=\u001b[39m librosa\u001b[39m.\u001b[39;49mget_duration(path\u001b[39m=\u001b[39;49mfilepath)\n\u001b[1;32m     16\u001b[0m         total_duration \u001b[39m+\u001b[39m\u001b[39m=\u001b[39m duration\n\u001b[1;32m     17\u001b[0m         audio_file_count \u001b[39m+\u001b[39m\u001b[39m=\u001b[39m \u001b[39m1\u001b[39m\n",
      "File \u001b[0;32m/work/van-speech-nlp/jindaznb/slamenv/lib/python3.10/site-packages/librosa/core/audio.py:796\u001b[0m, in \u001b[0;36mget_duration\u001b[0;34m(y, sr, S, n_fft, hop_length, center, path, filename)\u001b[0m\n\u001b[1;32m    794\u001b[0m \u001b[39mif\u001b[39;00m path \u001b[39mis\u001b[39;00m \u001b[39mnot\u001b[39;00m \u001b[39mNone\u001b[39;00m:\n\u001b[1;32m    795\u001b[0m     \u001b[39mtry\u001b[39;00m:\n\u001b[0;32m--> 796\u001b[0m         \u001b[39mreturn\u001b[39;00m sf\u001b[39m.\u001b[39;49minfo(path)\u001b[39m.\u001b[39mduration  \u001b[39m# type: ignore\u001b[39;00m\n\u001b[1;32m    797\u001b[0m     \u001b[39mexcept\u001b[39;00m sf\u001b[39m.\u001b[39mSoundFileRuntimeError:\n\u001b[1;32m    798\u001b[0m         warnings\u001b[39m.\u001b[39mwarn(\n\u001b[1;32m    799\u001b[0m             \u001b[39m\"\u001b[39m\u001b[39mPySoundFile failed. Trying audioread instead.\u001b[39m\u001b[39m\"\u001b[39m\n\u001b[1;32m    800\u001b[0m             \u001b[39m\"\u001b[39m\u001b[39m\\n\u001b[39;00m\u001b[39m\\t\u001b[39;00m\u001b[39mAudioread support is deprecated in librosa 0.10.0\u001b[39m\u001b[39m\"\u001b[39m\n\u001b[0;32m   (...)\u001b[0m\n\u001b[1;32m    803\u001b[0m             category\u001b[39m=\u001b[39m\u001b[39mFutureWarning\u001b[39;00m,\n\u001b[1;32m    804\u001b[0m         )\n",
      "File \u001b[0;32m/work/van-speech-nlp/jindaznb/slamenv/lib/python3.10/site-packages/soundfile.py:467\u001b[0m, in \u001b[0;36minfo\u001b[0;34m(file, verbose)\u001b[0m\n\u001b[1;32m    459\u001b[0m \u001b[39mdef\u001b[39;00m \u001b[39minfo\u001b[39m(file, verbose\u001b[39m=\u001b[39m\u001b[39mFalse\u001b[39;00m):\n\u001b[1;32m    460\u001b[0m \u001b[39m    \u001b[39m\u001b[39m\"\"\"Returns an object with information about a `SoundFile`.\u001b[39;00m\n\u001b[1;32m    461\u001b[0m \n\u001b[1;32m    462\u001b[0m \u001b[39m    Parameters\u001b[39;00m\n\u001b[0;32m   (...)\u001b[0m\n\u001b[1;32m    465\u001b[0m \u001b[39m        Whether to print additional information.\u001b[39;00m\n\u001b[1;32m    466\u001b[0m \u001b[39m    \"\"\"\u001b[39;00m\n\u001b[0;32m--> 467\u001b[0m     \u001b[39mreturn\u001b[39;00m _SoundFileInfo(file, verbose)\n",
      "File \u001b[0;32m/work/van-speech-nlp/jindaznb/slamenv/lib/python3.10/site-packages/soundfile.py:412\u001b[0m, in \u001b[0;36m_SoundFileInfo.__init__\u001b[0;34m(self, file, verbose)\u001b[0m\n\u001b[1;32m    410\u001b[0m \u001b[39mdef\u001b[39;00m \u001b[39m__init__\u001b[39m(\u001b[39mself\u001b[39m, file, verbose):\n\u001b[1;32m    411\u001b[0m     \u001b[39mself\u001b[39m\u001b[39m.\u001b[39mverbose \u001b[39m=\u001b[39m verbose\n\u001b[0;32m--> 412\u001b[0m     \u001b[39mwith\u001b[39;00m SoundFile(file) \u001b[39mas\u001b[39;00m f:\n\u001b[1;32m    413\u001b[0m         \u001b[39mself\u001b[39m\u001b[39m.\u001b[39mname \u001b[39m=\u001b[39m f\u001b[39m.\u001b[39mname\n\u001b[1;32m    414\u001b[0m         \u001b[39mself\u001b[39m\u001b[39m.\u001b[39msamplerate \u001b[39m=\u001b[39m f\u001b[39m.\u001b[39msamplerate\n",
      "File \u001b[0;32m/work/van-speech-nlp/jindaznb/slamenv/lib/python3.10/site-packages/soundfile.py:658\u001b[0m, in \u001b[0;36mSoundFile.__init__\u001b[0;34m(self, file, mode, samplerate, channels, subtype, endian, format, closefd)\u001b[0m\n\u001b[1;32m    655\u001b[0m \u001b[39mself\u001b[39m\u001b[39m.\u001b[39m_mode \u001b[39m=\u001b[39m mode\n\u001b[1;32m    656\u001b[0m \u001b[39mself\u001b[39m\u001b[39m.\u001b[39m_info \u001b[39m=\u001b[39m _create_info_struct(file, mode, samplerate, channels,\n\u001b[1;32m    657\u001b[0m                                  \u001b[39mformat\u001b[39m, subtype, endian)\n\u001b[0;32m--> 658\u001b[0m \u001b[39mself\u001b[39m\u001b[39m.\u001b[39m_file \u001b[39m=\u001b[39m \u001b[39mself\u001b[39;49m\u001b[39m.\u001b[39;49m_open(file, mode_int, closefd)\n\u001b[1;32m    659\u001b[0m \u001b[39mif\u001b[39;00m \u001b[39mset\u001b[39m(mode)\u001b[39m.\u001b[39missuperset(\u001b[39m'\u001b[39m\u001b[39mr+\u001b[39m\u001b[39m'\u001b[39m) \u001b[39mand\u001b[39;00m \u001b[39mself\u001b[39m\u001b[39m.\u001b[39mseekable():\n\u001b[1;32m    660\u001b[0m     \u001b[39m# Move write position to 0 (like in Python file objects)\u001b[39;00m\n\u001b[1;32m    661\u001b[0m     \u001b[39mself\u001b[39m\u001b[39m.\u001b[39mseek(\u001b[39m0\u001b[39m)\n",
      "File \u001b[0;32m/work/van-speech-nlp/jindaznb/slamenv/lib/python3.10/site-packages/soundfile.py:1205\u001b[0m, in \u001b[0;36mSoundFile._open\u001b[0;34m(self, file, mode_int, closefd)\u001b[0m\n\u001b[1;32m   1203\u001b[0m         \u001b[39melse\u001b[39;00m:\n\u001b[1;32m   1204\u001b[0m             file \u001b[39m=\u001b[39m file\u001b[39m.\u001b[39mencode(_sys\u001b[39m.\u001b[39mgetfilesystemencoding())\n\u001b[0;32m-> 1205\u001b[0m     file_ptr \u001b[39m=\u001b[39m openfunction(file, mode_int, \u001b[39mself\u001b[39;49m\u001b[39m.\u001b[39;49m_info)\n\u001b[1;32m   1206\u001b[0m \u001b[39melif\u001b[39;00m \u001b[39misinstance\u001b[39m(file, \u001b[39mint\u001b[39m):\n\u001b[1;32m   1207\u001b[0m     file_ptr \u001b[39m=\u001b[39m _snd\u001b[39m.\u001b[39msf_open_fd(file, mode_int, \u001b[39mself\u001b[39m\u001b[39m.\u001b[39m_info, closefd)\n",
      "\u001b[0;31mKeyboardInterrupt\u001b[0m: "
     ]
    }
   ],
   "source": [
    "import os\n",
    "import librosa\n",
    "\n",
    "def get_total_audio_duration(folder):\n",
    "    total_duration = 0.0\n",
    "    audio_file_count = 0\n",
    "    for dirpath, dirnames, filenames in os.walk(folder):\n",
    "        for filename in filenames:\n",
    "            if filename.lower().endswith(('.wav', '.flac')):\n",
    "                filepath = os.path.join(dirpath, filename)\n",
    "                # Skip symbolic links to avoid counting files twice\n",
    "                if not os.path.islink(filepath):\n",
    "                    try:\n",
    "                        # Get the duration of the audio file\n",
    "                        duration = librosa.get_duration(path=filepath)\n",
    "                        total_duration += duration\n",
    "                        audio_file_count += 1\n",
    "                        # Print a message every 10,000 files processed\n",
    "                        if audio_file_count % 10000 == 0:\n",
    "                            print(f\"Processed {audio_file_count} files so far...\")\n",
    "                    except Exception as e:\n",
    "                        print(f\"Error processing {filepath}: {e}\")\n",
    "    return total_duration, audio_file_count\n",
    "\n",
    "folder_path = \"/work/van-speech-nlp/jindaznb/jslpnb/mllm_experiments/aphasia/data_processed/audios\"\n",
    "total_duration_seconds, audio_count = get_total_audio_duration(folder_path)\n",
    "total_duration_hours = total_duration_seconds / 3600\n",
    "\n",
    "print(f\"Total number of audio files: {audio_count}\")\n",
    "print(f\"Total duration: {total_duration_seconds:.2f} seconds ({total_duration_hours:.2f} hours)\")\n"
   ]
  },
  {
   "cell_type": "code",
   "execution_count": 2,
   "metadata": {},
   "outputs": [
    {
     "name": "stdout",
     "output_type": "stream",
     "text": [
      "Total number of .wav and .flac files: 129829\n",
      "Total size of .wav and .flac files: 64744463402 bytes (61745.13 MB)\n"
     ]
    }
   ],
   "source": [
    "import os\n",
    "\n",
    "def get_audio_files_info(folder):\n",
    "    total_size = 0\n",
    "    audio_file_count = 0\n",
    "    for dirpath, dirnames, filenames in os.walk(folder):\n",
    "        for filename in filenames:\n",
    "            if filename.lower().endswith(('.wav', '.flac')):\n",
    "                filepath = os.path.join(dirpath, filename)\n",
    "                # Skip symbolic links to avoid counting files twice\n",
    "                if not os.path.islink(filepath):\n",
    "                    total_size += os.path.getsize(filepath)\n",
    "                    audio_file_count += 1\n",
    "    return total_size, audio_file_count\n",
    "\n",
    "folder_path = \"/work/van-speech-nlp/jindaznb/jslpnb/mllm_experiments/aphasia/data_processed/audios\"\n",
    "size_bytes, audio_count = get_audio_files_info(folder_path)\n",
    "size_mb = size_bytes / (1024 * 1024)\n",
    "print(f\"Total number of .wav and .flac files: {audio_count}\")\n",
    "print(f\"Total size of .wav and .flac files: {size_bytes} bytes ({size_mb:.2f} MB)\")\n"
   ]
  },
  {
   "cell_type": "code",
   "execution_count": 21,
   "metadata": {},
   "outputs": [
    {
     "name": "stdout",
     "output_type": "stream",
     "text": [
      "Total number of .wav and .flac files: 28539\n",
      "Total size of .wav and .flac files: 6611795328 bytes (6305.50 MB)\n"
     ]
    }
   ],
   "source": [
    "import os\n",
    "\n",
    "def get_audio_files_info(folder):\n",
    "    total_size = 0\n",
    "    audio_file_count = 0\n",
    "    for dirpath, dirnames, filenames in os.walk(folder):\n",
    "        for filename in filenames:\n",
    "            if filename.lower().endswith(('.wav', '.flac')):\n",
    "                filepath = os.path.join(dirpath, filename)\n",
    "                # Skip symbolic links to avoid counting files twice\n",
    "                if not os.path.islink(filepath):\n",
    "                    total_size += os.path.getsize(filepath)\n",
    "                    audio_file_count += 1\n",
    "    return total_size, audio_file_count\n",
    "\n",
    "folder_path = \"/work/van-speech-nlp/librispeech/LibriSpeech/train-clean-100/\"\n",
    "size_bytes, audio_count = get_audio_files_info(folder_path)\n",
    "size_mb = size_bytes / (1024 * 1024)\n",
    "print(f\"Total number of .wav and .flac files: {audio_count}\")\n",
    "print(f\"Total size of .wav and .flac files: {size_bytes} bytes ({size_mb:.2f} MB)\")\n"
   ]
  },
  {
   "cell_type": "code",
   "execution_count": null,
   "metadata": {},
   "outputs": [],
   "source": [
    "import os\n",
    "\n",
    "def get_audio_files_info(folder):\n",
    "    total_size = 0\n",
    "    audio_file_count = 0\n",
    "    for dirpath, dirnames, filenames in os.walk(folder):\n",
    "        for filename in filenames:\n",
    "            if filename.lower().endswith(('.wav', '.flac')):\n",
    "                filepath = os.path.join(dirpath, filename)\n",
    "                # Skip symbolic links to avoid counting files twice\n",
    "                if not os.path.islink(filepath):\n",
    "                    total_size += os.path.getsize(filepath)\n",
    "                    audio_file_count += 1\n",
    "    return total_size, audio_file_count\n",
    "\n",
    "folder_path = \"/work/van-speech-nlp/librispeech/LibriSpeech/train-clean-100/\"\n",
    "size_bytes, audio_count = get_audio_files_info(folder_path)\n",
    "size_mb = size_bytes / (1024 * 1024)\n",
    "print(f\"Total number of .wav and .flac files: {audio_count}\")\n",
    "print(f\"Total size of .wav and .flac files: {size_bytes} bytes ({size_mb:.2f} MB)\")"
   ]
  },
  {
   "cell_type": "code",
   "execution_count": 13,
   "metadata": {},
   "outputs": [
    {
     "name": "stdout",
     "output_type": "stream",
     "text": [
      "Sample Rate: 16000 Hz\n"
     ]
    }
   ],
   "source": [
    "import wave\n",
    "fp=\"/work/van-speech-nlp/PSST-experiment/psst-data/psst-data-2022-03-02-full/test/audio/bnt/ACWT08a/ACWT08a-BNT02-comb.wav\"\n",
    "# Open the WAV file\n",
    "with wave.open(fp, 'rb') as wav_file:\n",
    "    # Get the sample rate\n",
    "    sample_rate = wav_file.getframerate()\n",
    "    print(f\"Sample Rate: {sample_rate} Hz\")"
   ]
  },
  {
   "cell_type": "code",
   "execution_count": 14,
   "metadata": {},
   "outputs": [
    {
     "name": "stdout",
     "output_type": "stream",
     "text": [
      "Bit Depth: 16 bits\n"
     ]
    }
   ],
   "source": [
    "import wave\n",
    "\n",
    "# Open the WAV file\n",
    "with wave.open(fp, 'rb') as wav_file:\n",
    "    # Get the sample width in bytes\n",
    "    sample_width = wav_file.getsampwidth()\n",
    "    # Calculate bit depth\n",
    "    bit_depth = sample_width * 8\n",
    "    print(f\"Bit Depth: {bit_depth} bits\")"
   ]
  },
  {
   "cell_type": "code",
   "execution_count": 15,
   "metadata": {},
   "outputs": [
    {
     "name": "stdout",
     "output_type": "stream",
     "text": [
      "Number of Channels: 1\n"
     ]
    }
   ],
   "source": [
    "import wave\n",
    "\n",
    "# Open the WAV file\n",
    "with wave.open(fp, 'rb') as wav_file:\n",
    "    # Get the number of channels\n",
    "    num_channels = wav_file.getnchannels()\n",
    "    print(f\"Number of Channels: {num_channels}\")"
   ]
  },
  {
   "cell_type": "code",
   "execution_count": 16,
   "metadata": {},
   "outputs": [
    {
     "name": "stdout",
     "output_type": "stream",
     "text": [
      "Bit Rate: 256.0 kbps\n"
     ]
    }
   ],
   "source": [
    "import wave\n",
    "\n",
    "# Open the WAV file\n",
    "with wave.open(fp, 'rb') as wav_file:\n",
    "    # Extract audio parameters\n",
    "    sample_rate = wav_file.getframerate()       # Sample rate in Hz\n",
    "    bit_depth = wav_file.getsampwidth() * 8     # Sample width in bytes converted to bits\n",
    "    num_channels = wav_file.getnchannels()      # Number of audio channels\n",
    "\n",
    "    # Calculate bit rate in bps\n",
    "    bit_rate_bps = sample_rate * bit_depth * num_channels\n",
    "\n",
    "    # Convert bit rate to kbps\n",
    "    bit_rate_kbps = bit_rate_bps / 1000\n",
    "\n",
    "    print(f\"Bit Rate: {bit_rate_kbps} kbps\")"
   ]
  }
 ],
 "metadata": {
  "kernelspec": {
   "display_name": "Python 3",
   "language": "python",
   "name": "python3"
  },
  "language_info": {
   "codemirror_mode": {
    "name": "ipython",
    "version": 3
   },
   "file_extension": ".py",
   "mimetype": "text/x-python",
   "name": "python",
   "nbconvert_exporter": "python",
   "pygments_lexer": "ipython3",
   "version": "3.10.14"
  },
  "orig_nbformat": 4
 },
 "nbformat": 4,
 "nbformat_minor": 2
}
