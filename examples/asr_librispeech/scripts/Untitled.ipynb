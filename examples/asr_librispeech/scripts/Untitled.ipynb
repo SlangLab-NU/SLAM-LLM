{
 "cells": [
  {
   "cell_type": "code",
   "execution_count": 2,
   "id": "2b014c54",
   "metadata": {},
   "outputs": [
    {
     "name": "stdout",
     "output_type": "stream",
     "text": [
      "/bin/bash: line 1: nvidia-smi: command not found\n"
     ]
    }
   ],
   "source": [
    "!nvidia-smi"
   ]
  },
  {
   "cell_type": "code",
   "execution_count": null,
   "id": "e8c4e2fb",
   "metadata": {},
   "outputs": [],
   "source": [
    "!nvidia-smi"
   ]
  },
  {
   "cell_type": "code",
   "execution_count": null,
   "id": "babb8114-60fb-4207-9426-172fa3669894",
   "metadata": {},
   "outputs": [],
   "source": [
    "!sbatch 1_2_finetune_hubert_large_tiny_llama.sh"
   ]
  },
  {
   "cell_type": "code",
   "execution_count": null,
   "id": "26fa9724-fec7-4e9b-926c-7022311bc0ed",
   "metadata": {},
   "outputs": [],
   "source": [
    "!scancel 43290505"
   ]
  },
  {
   "cell_type": "code",
   "execution_count": null,
   "id": "5629fff7-ae02-4321-8e32-be12c41f7531",
   "metadata": {},
   "outputs": [],
   "source": [
    "!squeue -u zhang.jinda1"
   ]
  },
  {
   "cell_type": "code",
   "execution_count": null,
   "id": "7715d6bb-666c-4937-b588-36668d0116bc",
   "metadata": {},
   "outputs": [],
   "source": [
    "!sbatch 0_3_decode_whisper_tiny_llama.sh"
   ]
  },
  {
   "cell_type": "code",
   "execution_count": null,
   "id": "887cfd45-b5d9-47fa-914d-85a78ccfe1ec",
   "metadata": {},
   "outputs": [],
   "source": [
    "!sbatch 1_1_finetune_hubert_xtralarge_tiny_llama.sh"
   ]
  },
  {
   "cell_type": "code",
   "execution_count": null,
   "id": "ce1e73cf-5596-44c2-8c29-0d8ac3a5cef8",
   "metadata": {},
   "outputs": [],
   "source": [
    "!sbatch 1_3_finetune_whisper_large_tiny_llama.sh"
   ]
  },
  {
   "cell_type": "code",
   "execution_count": null,
   "id": "3f812444-ba46-469b-af52-45361b19c30c",
   "metadata": {},
   "outputs": [],
   "source": [
    "!sbatch 2_1_baseline_finetune_whisper_large_linear_vicuna_7b.sh"
   ]
  },
  {
   "cell_type": "code",
   "execution_count": null,
   "id": "433531d6-01a2-4685-acf1-e426ec0e1d50",
   "metadata": {},
   "outputs": [],
   "source": [
    "!sbatch 0_0_baseline_decode_wavlm_large_linear_vicuna_7b.sh"
   ]
  },
  {
   "cell_type": "code",
   "execution_count": null,
   "id": "354ba7f2-7d05-44f0-929a-72ca85364c0b",
   "metadata": {},
   "outputs": [],
   "source": [
    "43297946"
   ]
  },
  {
   "cell_type": "code",
   "execution_count": null,
   "id": "6e590130-c3fc-47d9-a78e-3ac8475809b0",
   "metadata": {},
   "outputs": [],
   "source": [
    "!srun -N 1 -c 12 -p gpu --gres=gpu:v100-sxm2:1 --time=08:00:00"
   ]
  },
  {
   "cell_type": "code",
   "execution_count": null,
   "id": "06d3abdf-650b-4822-aeb0-b0f5b36a186c",
   "metadata": {},
   "outputs": [],
   "source": [
    "import sys\n",
    "sys.prefix"
   ]
  },
  {
   "cell_type": "code",
   "execution_count": null,
   "id": "9b337b5b-9b86-4a68-acd0-5e594a1638ec",
   "metadata": {},
   "outputs": [],
   "source": [
    "!pip uninstall -y transformers"
   ]
  },
  {
   "cell_type": "code",
   "execution_count": null,
   "id": "fc2f91fb-07d9-4327-8acf-4094e221530e",
   "metadata": {},
   "outputs": [],
   "source": [
    "!pip install git+https://github.com/huggingface/transformers"
   ]
  },
  {
   "cell_type": "code",
   "execution_count": 7,
   "id": "29b0e80b-c302-4859-a717-0d1bdc2e2d16",
   "metadata": {},
   "outputs": [],
   "source": [
    "import os\n",
    "import re\n",
    "def find_latest_checkpoint(directory):\n",
    "    \"\"\"\n",
    "    Finds the folder with the largest epoch, then largest step in the directory.\n",
    "    \"\"\"\n",
    "    latest_epoch = -1\n",
    "    latest_step = -1\n",
    "    latest_folder = None\n",
    "\n",
    "    for folder in os.listdir(directory):\n",
    "        folder_path = os.path.join(directory, folder)\n",
    "        if os.path.isdir(folder_path):\n",
    "            epoch_step = get_epoch_step(folder)\n",
    "            if epoch_step:\n",
    "                epoch, step = epoch_step\n",
    "                if (epoch > latest_epoch) or (epoch == latest_epoch and step > latest_step):\n",
    "                    latest_epoch = epoch\n",
    "                    latest_step = step\n",
    "                    latest_folder = folder_path\n",
    "\n",
    "    return latest_folder\n",
    "\n",
    "def get_epoch_step(folder_name):\n",
    "    \"\"\"\n",
    "    Extracts epoch and step numbers from the folder name.\n",
    "    Assumes folder names follow the pattern: 'asr_epoch_<epoch>_step_<step>'.\n",
    "    \"\"\"\n",
    "    match = re.match(r'asr_epoch_(\\d+)_step_(\\d+)', folder_name)\n",
    "    if match:\n",
    "        epoch = int(match.group(1))\n",
    "        step = int(match.group(2))\n",
    "        return epoch, step\n",
    "    return None"
   ]
  },
  {
   "cell_type": "code",
   "execution_count": 8,
   "id": "db425c3e",
   "metadata": {},
   "outputs": [
    {
     "data": {
      "text/plain": [
       "'/work/van-speech-nlp/jindaznb/jslpnb/mllm_expriments/slam-llm/out/train/ami-10h_w2v2_TinyLlama_linear/asr_epoch_3_step_5768'"
      ]
     },
     "execution_count": 8,
     "metadata": {},
     "output_type": "execute_result"
    }
   ],
   "source": [
    "find_latest_checkpoint(\"/work/van-speech-nlp/jindaznb/jslpnb/mllm_expriments/slam-llm/out/train/ami-10h_w2v2_TinyLlama_linear\")"
   ]
  },
  {
   "cell_type": "code",
   "execution_count": null,
   "id": "8ac75918",
   "metadata": {},
   "outputs": [],
   "source": []
  }
 ],
 "metadata": {
  "kernelspec": {
   "display_name": "Python 3",
   "language": "python",
   "name": "python3"
  },
  "language_info": {
   "codemirror_mode": {
    "name": "ipython",
    "version": 3
   },
   "file_extension": ".py",
   "mimetype": "text/x-python",
   "name": "python",
   "nbconvert_exporter": "python",
   "pygments_lexer": "ipython3",
   "version": "3.6.8"
  }
 },
 "nbformat": 4,
 "nbformat_minor": 5
}
