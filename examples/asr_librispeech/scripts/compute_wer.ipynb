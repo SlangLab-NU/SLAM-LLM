{
 "cells": [
  {
   "cell_type": "code",
   "execution_count": 2,
   "metadata": {},
   "outputs": [
    {
     "name": "stdout",
     "output_type": "stream",
     "text": [
      "Using folder: /work/van-speech-nlp/jindaznb/jslpnb/mllm_experiments/slam-llm/out/ami_phoneme_wavlm_llama32_1b_q-former_peft\n",
      "Using GT file: /work/van-speech-nlp/jindaznb/jslpnb/mllm_experiments/slam-llm/out/ami_phoneme_wavlm_llama32_1b_q-former_peft/decode_test_beam4_gt_20250206_175740\n",
      "Using PRED file: /work/van-speech-nlp/jindaznb/jslpnb/mllm_experiments/slam-llm/out/ami_phoneme_wavlm_llama32_1b_q-former_peft/decode_test_beam4_pred_20250206_175740\n",
      "Combined WER: 0.7538000854371187\n",
      "\n",
      "Filtering repeated words...\n",
      "\n",
      "Found 5 repeated lines in total.\n",
      "Repeated lines are:\n",
      "- JH AH S T JH AH S T G OW IH N HH IY R AO R W AH T EH V ER HH IY HH IY HH IY HH IY HH IY HH IY HH IY HH IY HH IY\n",
      "- AH HH IY HH IY HH IY HH IY HH IY HH IY HH IY\n",
      "- AY D AA N T IY R IH L IY Y UW S DH AE T B AH T F AO R IH G Z AE M P AH L IH T EH S AH K AY N D AH V D IH F ER AH N T CH EY N JH AH Z AH N D AH N D AH N D AH N D\n",
      "- Y AE Y AE Y AE Y AE Y AE\n",
      "- AH M W IY K AE N AO L S OW Y UW S AH P R EH Z AH N T EY SH AH N F AO R DH AH CH AE N AH L S AH L EH K SH AH N AH N D AH N D AH N D AH N D AH N D AH N D AH N D\n",
      "Filtered Combined WER: 0.7537368261571604\n"
     ]
    }
   ],
   "source": [
    "!python /work/van-speech-nlp/jindaznb/jslpnb/mllm_experiments/slam-llm/examples/asr_librispeech/scripts/wer.py \\\n",
    "    --folder /work/van-speech-nlp/jindaznb/jslpnb/mllm_experiments/slam-llm/out/ami_phoneme_wavlm_llama32_1b_q-former_peft"
   ]
  },
  {
   "cell_type": "code",
   "execution_count": 4,
   "metadata": {},
   "outputs": [
    {
     "name": "stdout",
     "output_type": "stream",
     "text": [
      "Using folder: /work/van-speech-nlp/jindaznb/jslpnb/mllm_experiments/slam-llm/out/ami_phoneme_seperate_wavlm_llama32_1b_dual_peft\n",
      "Using GT file: /work/van-speech-nlp/jindaznb/jslpnb/mllm_experiments/slam-llm/out/ami_phoneme_seperate_wavlm_llama32_1b_dual_peft/decode_test_beam4_gt_20250209_074958\n",
      "Using PRED file: /work/van-speech-nlp/jindaznb/jslpnb/mllm_experiments/slam-llm/out/ami_phoneme_seperate_wavlm_llama32_1b_dual_peft/decode_test_beam4_pred_20250209_074958\n",
      "ASR WER: 0.14717159316271602\n",
      "Phoneme WER: 0.13333333333333333\n",
      "\n",
      "Filtering repeated words...\n",
      "\n",
      "Found 12 repeated lines in total.\n",
      "Repeated lines are:\n",
      "- so yeah it's it's bit of a sort of a sort of a sort of a sort of a sort of a sort of a sort of a sort of a sort of a sort of a sort of a sort of a sort of a sort of a sort of a sort of a sort of a sort of a sort of a sort of a sort of a sort of a sort of a sort of a sort of a sort of a sort of a sort of a sort of a sort of a sort of a sort of a sort of a sort of a sort of a sort of a sort of a sort of a sort of a sort of a sort of a sort of a sort of a sort of a sort of a sort of a sort of a sort of a sort of a sort of a sort of a sort of a sort of a sort of a sort of a sort of a sort of a sort of a sort of a sort of a sort of a sort of a sort of a sort of\n",
      "- yeah yeah yeah yeah\n",
      "- oh yeah yeah yeah yeah\n",
      "- two two two two two two two two two two two two two two two two two two two two two two two two two two two two two two two two two two two two two two two two two two two two two two two two two two two two two two two two two two two two two two two two two two two two two two two two two two two two two two two two two two two two two two two two two two two two two two two two two two two two two two two two two two two two two two two two two two two two two two two two two two two two two two two two two two two two two two two two two two two two two two two two two two two two two two two two two two two two two two two two two two two two two two two two two two two two two two two two two two two two two two two two two two two two two two two two two two two two two two two two\n",
      "- interact as well as well as well as well as well as well as well as well as well as well as well as well as well as well as well as well as well as well as well as well as well as well as well as well as well as well as well as well as well as well as well as well as well as well as well as well as well as well as well as well as well as well as well as well as well as well as well as well as well as well as well as well as well as well as well as well as well as well as well as well as well as well as well as well as well as well as well as well as well as well as well as well as well as well as well as well as well as well as well as well as well as well as well as well as well as well as well as well as well as well as well as well as well as well as well as well as well as well as well\n",
      "- so that's a free as free as free as free as free as free as free as free as free as free as free as free as free as free as free as free as free as free as free as free as free as free as free as free as free as free as free as free as free as free as free as free as free as free as free as free as free as free as free as free as free as free as free as free as free as free as free as free as free as free as free as free as free as free as free as free as free as free as free as free as free as free as free as free as free as free as free as free as free as free as free as free as free as free as free as free as free as free as free as free as free as free as free as free as free as free as free as free as free as free as free as free as free as free as free as free as free as free as\n",
      "- yeah it is it is it is it is it is it is it is it is it is it is it is it is it is it is it is it is it is it is it is it is it is it is it is it is it is it is it is it is it is it is it is it is it is it is it is it is it is it is it is it is it is it is it is it is it is it is it is it is it is it is it is it is it is it is it is it is it is it is it is it is it is it is it is it is it is it is it is it is it is it is it is it is it is it is it is it is it is it is it is it is it is it is it is it is it is it is it is it is it is it is it is it is it is it is it is it is it is it is it is it\n",
      "- Y AE  Y AE  Y AE  Y AE\n",
      "- OW  OW. F AO R  F AY V  F AY V  F AY V  F AY V\n",
      "- know just just pains just result pains for each of the three no no no no\n",
      "- doesn't mean it doesn't mean it doesn't mean it doesn't mean it doesn't mean it doesn't mean it doesn't mean it doesn't mean it doesn't mean it doesn't mean it doesn't mean it doesn't mean it doesn't mean it doesn't mean it doesn't mean it doesn't mean it doesn't mean it doesn't mean it doesn't mean it doesn't mean it doesn't mean it doesn't mean it doesn't mean it doesn't mean it doesn't mean it doesn't mean it doesn't mean it doesn't mean it doesn't mean it doesn't mean it doesn't mean it doesn't mean it doesn't mean it doesn't mean it doesn't mean it doesn't mean it doesn't mean it doesn't mean it doesn't mean it doesn't mean it doesn't mean it doesn't mean it doesn't mean it doesn't mean it doesn't mean it doesn't mean it doesn't mean it doesn't mean it doesn't mean it doesn't mean it\n",
      "- because we're gonna get an email on our email on our email on our email on our email on our email on our email on our email on our email on our email on our email on our email on our email on our email on our email on our email on our email on our email on our email on our email on our email on our email on our email on our email on our email on our email on our email on our email on our email on our email on our email on our email on our email on our email on our email on our email on our email on our email on our email on our email on our email on our email on our email on our email on our email on our email on our email on our email on our email on our email on our email on our email on our email on our email on our email on our email on our email on our email on our email on our email on our email on our email on our email on our email on our email on\n",
      "Filtered ASR WER: 0.13654880388654173\n",
      "Filtered Phoneme WER: 0.13236560870100245\n"
     ]
    }
   ],
   "source": [
    "!python /work/van-speech-nlp/jindaznb/jslpnb/mllm_experiments/slam-llm/examples/asr_librispeech/scripts/wer.py \\\n",
    "    --folder /work/van-speech-nlp/jindaznb/jslpnb/mllm_experiments/slam-llm/out/ami_phoneme_seperate_wavlm_llama32_1b_dual_peft \\\n",
    "    --separate"
   ]
  }
 ],
 "metadata": {
  "kernelspec": {
   "display_name": "Python 3",
   "language": "python",
   "name": "python3"
  },
  "language_info": {
   "codemirror_mode": {
    "name": "ipython",
    "version": 3
   },
   "file_extension": ".py",
   "mimetype": "text/x-python",
   "name": "python",
   "nbconvert_exporter": "python",
   "pygments_lexer": "ipython3",
   "version": "3.10.14"
  },
  "orig_nbformat": 4
 },
 "nbformat": 4,
 "nbformat_minor": 2
}
