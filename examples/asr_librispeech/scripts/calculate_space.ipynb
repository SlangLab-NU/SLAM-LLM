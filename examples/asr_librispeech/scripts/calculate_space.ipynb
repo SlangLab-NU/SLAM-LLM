{
 "cells": [
  {
   "cell_type": "code",
   "execution_count": 1,
   "metadata": {},
   "outputs": [
    {
     "name": "stdout",
     "output_type": "stream",
     "text": [
      "Total size: 64744463402 bytes (61745.13 MB)\n"
     ]
    }
   ],
   "source": [
    "import os\n",
    "\n",
    "def get_wav_files_size(folder):\n",
    "    total_size = 0\n",
    "    for dirpath, dirnames, filenames in os.walk(folder):\n",
    "        for filename in filenames:\n",
    "            if filename.lower().endswith('.wav'):\n",
    "                filepath = os.path.join(dirpath, filename)\n",
    "                # Skip symbolic links to avoid counting files twice\n",
    "                if not os.path.islink(filepath):\n",
    "                    total_size += os.path.getsize(filepath)\n",
    "    return total_size\n",
    "    \n",
    "folder_path = \"/work/van-speech-nlp/jindaznb/jslpnb/mllm_experiments/aphasia/data_processed/audios\"\n",
    "size_bytes = get_wav_files_size(folder_path)\n",
    "size_mb = size_bytes / (1024 * 1024)\n",
    "print(f\"Total size of .wav files: {size_bytes} bytes ({size_mb:.2f} MB)\")\n"
   ]
  },
  {
   "cell_type": "code",
   "execution_count": 21,
   "metadata": {},
   "outputs": [
    {
     "name": "stdout",
     "output_type": "stream",
     "text": [
      "Total number of .wav and .flac files: 28539\n",
      "Total size of .wav and .flac files: 6611795328 bytes (6305.50 MB)\n"
     ]
    }
   ],
   "source": [
    "import os\n",
    "\n",
    "def get_audio_files_info(folder):\n",
    "    total_size = 0\n",
    "    audio_file_count = 0\n",
    "    for dirpath, dirnames, filenames in os.walk(folder):\n",
    "        for filename in filenames:\n",
    "            if filename.lower().endswith(('.wav', '.flac')):\n",
    "                filepath = os.path.join(dirpath, filename)\n",
    "                # Skip symbolic links to avoid counting files twice\n",
    "                if not os.path.islink(filepath):\n",
    "                    total_size += os.path.getsize(filepath)\n",
    "                    audio_file_count += 1\n",
    "    return total_size, audio_file_count\n",
    "\n",
    "folder_path = \"/work/van-speech-nlp/librispeech/LibriSpeech/train-clean-100/\"\n",
    "size_bytes, audio_count = get_audio_files_info(folder_path)\n",
    "size_mb = size_bytes / (1024 * 1024)\n",
    "print(f\"Total number of .wav and .flac files: {audio_count}\")\n",
    "print(f\"Total size of .wav and .flac files: {size_bytes} bytes ({size_mb:.2f} MB)\")\n"
   ]
  },
  {
   "cell_type": "code",
   "execution_count": null,
   "metadata": {},
   "outputs": [],
   "source": [
    "import os\n",
    "\n",
    "def get_audio_files_info(folder):\n",
    "    total_size = 0\n",
    "    audio_file_count = 0\n",
    "    for dirpath, dirnames, filenames in os.walk(folder):\n",
    "        for filename in filenames:\n",
    "            if filename.lower().endswith(('.wav', '.flac')):\n",
    "                filepath = os.path.join(dirpath, filename)\n",
    "                # Skip symbolic links to avoid counting files twice\n",
    "                if not os.path.islink(filepath):\n",
    "                    total_size += os.path.getsize(filepath)\n",
    "                    audio_file_count += 1\n",
    "    return total_size, audio_file_count\n",
    "\n",
    "folder_path = \"/work/van-speech-nlp/librispeech/LibriSpeech/train-clean-100/\"\n",
    "size_bytes, audio_count = get_audio_files_info(folder_path)\n",
    "size_mb = size_bytes / (1024 * 1024)\n",
    "print(f\"Total number of .wav and .flac files: {audio_count}\")\n",
    "print(f\"Total size of .wav and .flac files: {size_bytes} bytes ({size_mb:.2f} MB)\")"
   ]
  },
  {
   "cell_type": "code",
   "execution_count": 13,
   "metadata": {},
   "outputs": [
    {
     "name": "stdout",
     "output_type": "stream",
     "text": [
      "Sample Rate: 16000 Hz\n"
     ]
    }
   ],
   "source": [
    "import wave\n",
    "fp=\"/work/van-speech-nlp/PSST-experiment/psst-data/psst-data-2022-03-02-full/test/audio/bnt/ACWT08a/ACWT08a-BNT02-comb.wav\"\n",
    "# Open the WAV file\n",
    "with wave.open(fp, 'rb') as wav_file:\n",
    "    # Get the sample rate\n",
    "    sample_rate = wav_file.getframerate()\n",
    "    print(f\"Sample Rate: {sample_rate} Hz\")"
   ]
  },
  {
   "cell_type": "code",
   "execution_count": 14,
   "metadata": {},
   "outputs": [
    {
     "name": "stdout",
     "output_type": "stream",
     "text": [
      "Bit Depth: 16 bits\n"
     ]
    }
   ],
   "source": [
    "import wave\n",
    "\n",
    "# Open the WAV file\n",
    "with wave.open(fp, 'rb') as wav_file:\n",
    "    # Get the sample width in bytes\n",
    "    sample_width = wav_file.getsampwidth()\n",
    "    # Calculate bit depth\n",
    "    bit_depth = sample_width * 8\n",
    "    print(f\"Bit Depth: {bit_depth} bits\")"
   ]
  },
  {
   "cell_type": "code",
   "execution_count": 15,
   "metadata": {},
   "outputs": [
    {
     "name": "stdout",
     "output_type": "stream",
     "text": [
      "Number of Channels: 1\n"
     ]
    }
   ],
   "source": [
    "import wave\n",
    "\n",
    "# Open the WAV file\n",
    "with wave.open(fp, 'rb') as wav_file:\n",
    "    # Get the number of channels\n",
    "    num_channels = wav_file.getnchannels()\n",
    "    print(f\"Number of Channels: {num_channels}\")"
   ]
  },
  {
   "cell_type": "code",
   "execution_count": 16,
   "metadata": {},
   "outputs": [
    {
     "name": "stdout",
     "output_type": "stream",
     "text": [
      "Bit Rate: 256.0 kbps\n"
     ]
    }
   ],
   "source": [
    "import wave\n",
    "\n",
    "# Open the WAV file\n",
    "with wave.open(fp, 'rb') as wav_file:\n",
    "    # Extract audio parameters\n",
    "    sample_rate = wav_file.getframerate()       # Sample rate in Hz\n",
    "    bit_depth = wav_file.getsampwidth() * 8     # Sample width in bytes converted to bits\n",
    "    num_channels = wav_file.getnchannels()      # Number of audio channels\n",
    "\n",
    "    # Calculate bit rate in bps\n",
    "    bit_rate_bps = sample_rate * bit_depth * num_channels\n",
    "\n",
    "    # Convert bit rate to kbps\n",
    "    bit_rate_kbps = bit_rate_bps / 1000\n",
    "\n",
    "    print(f\"Bit Rate: {bit_rate_kbps} kbps\")"
   ]
  }
 ],
 "metadata": {
  "kernelspec": {
   "display_name": "Python 3",
   "language": "python",
   "name": "python3"
  },
  "language_info": {
   "codemirror_mode": {
    "name": "ipython",
    "version": 3
   },
   "file_extension": ".py",
   "mimetype": "text/x-python",
   "name": "python",
   "nbconvert_exporter": "python",
   "pygments_lexer": "ipython3",
   "version": "3.10.14"
  },
  "orig_nbformat": 4
 },
 "nbformat": 4,
 "nbformat_minor": 2
}
