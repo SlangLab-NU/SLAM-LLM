{
 "cells": [
  {
   "cell_type": "code",
   "execution_count": 1,
   "id": "5630cae5-36bc-45f1-91e7-d8d1d768874d",
   "metadata": {},
   "outputs": [
    {
     "name": "stdout",
     "output_type": "stream",
     "text": [
      "--2024-06-19 22:37:32--  https://dl.fbaipublicfiles.com/hubert/hubert_xtralarge_ll60k_finetune_ls960.pt\n",
      "Connecting to 10.99.0.130:3128... connected.\n",
      "Proxy request sent, awaiting response... 200 OK\n",
      "Length: 11556963008 (11G) [application/zip]\n",
      "Saving to: ‘hubert_xtralarge_ll60k_finetune_ls960.pt’\n",
      "\n",
      "100%[===================================>] 11,556,963,008 20.1MB/s   in 5m 38s \n",
      "\n",
      "2024-06-19 22:43:10 (32.7 MB/s) - ‘hubert_xtralarge_ll60k_finetune_ls960.pt’ saved [11556963008/11556963008]\n",
      "\n"
     ]
    }
   ],
   "source": [
    "!wget https://dl.fbaipublicfiles.com/hubert/hubert_xtralarge_ll60k_finetune_ls960.pt"
   ]
  },
  {
   "cell_type": "code",
   "execution_count": 2,
   "id": "4ec3d40d-2797-4ea2-a582-84324e1bd9ab",
   "metadata": {},
   "outputs": [
    {
     "name": "stderr",
     "output_type": "stream",
     "text": [
      "Downloading...\n",
      "From (original): https://drive.google.com/uc?id=1cLNuMR05oXxKj8M_Z3yAZ5JHJ06ybIHp\n",
      "From (redirected): https://drive.google.com/uc?id=1cLNuMR05oXxKj8M_Z3yAZ5JHJ06ybIHp&confirm=t&uuid=40b4fb67-f2e0-46ba-abf1-5370b12a99be\n",
      "To: /work/van-speech-nlp/jindaznb/jslpnb/mllm_experiments/slam-llm/models/downloaded_file\n",
      "100%|██████████| 75.5M/75.5M [00:01<00:00, 42.4MB/s]\n"
     ]
    },
    {
     "data": {
      "text/plain": [
       "'downloaded_file'"
      ]
     },
     "execution_count": 2,
     "metadata": {},
     "output_type": "execute_result"
    }
   ],
   "source": [
    "import gdown\n",
    "\n",
    "# Correct URL format for gdown\n",
    "file_id = \"1cLNuMR05oXxKj8M_Z3yAZ5JHJ06ybIHp\"\n",
    "correct_url = f\"https://drive.google.com/uc?id={file_id}\"\n",
    "\n",
    "# Download the file\n",
    "gdown.download(correct_url, 'downloaded_file', quiet=False)"
   ]
  },
  {
   "cell_type": "code",
   "execution_count": 3,
   "id": "26ba2b67",
   "metadata": {},
   "outputs": [
    {
     "name": "stdout",
     "output_type": "stream",
     "text": [
      "Collecting gdown\n",
      "  Downloading gdown-5.2.0-py3-none-any.whl.metadata (5.8 kB)\n",
      "Requirement already satisfied: beautifulsoup4 in /work/van-speech-nlp/jindaznb/slamenv/lib/python3.10/site-packages (from gdown) (4.12.3)\n",
      "Requirement already satisfied: filelock in /work/van-speech-nlp/jindaznb/slamenv/lib/python3.10/site-packages (from gdown) (3.13.1)\n",
      "Requirement already satisfied: requests[socks] in /work/van-speech-nlp/jindaznb/slamenv/lib/python3.10/site-packages (from gdown) (2.32.2)\n",
      "Requirement already satisfied: tqdm in /work/van-speech-nlp/jindaznb/slamenv/lib/python3.10/site-packages (from gdown) (4.66.4)\n",
      "Requirement already satisfied: soupsieve>1.2 in /work/van-speech-nlp/jindaznb/slamenv/lib/python3.10/site-packages (from beautifulsoup4->gdown) (2.5)\n",
      "Requirement already satisfied: charset-normalizer<4,>=2 in /work/van-speech-nlp/jindaznb/slamenv/lib/python3.10/site-packages (from requests[socks]->gdown) (2.0.4)\n",
      "Requirement already satisfied: idna<4,>=2.5 in /work/van-speech-nlp/jindaznb/slamenv/lib/python3.10/site-packages (from requests[socks]->gdown) (3.7)\n",
      "Requirement already satisfied: urllib3<3,>=1.21.1 in /work/van-speech-nlp/jindaznb/slamenv/lib/python3.10/site-packages (from requests[socks]->gdown) (2.2.2)\n",
      "Requirement already satisfied: certifi>=2017.4.17 in /work/van-speech-nlp/jindaznb/slamenv/lib/python3.10/site-packages (from requests[socks]->gdown) (2024.6.2)\n",
      "Requirement already satisfied: PySocks!=1.5.7,>=1.5.6 in /work/van-speech-nlp/jindaznb/slamenv/lib/python3.10/site-packages (from requests[socks]->gdown) (1.7.1)\n",
      "Downloading gdown-5.2.0-py3-none-any.whl (18 kB)\n",
      "Installing collected packages: gdown\n",
      "Successfully installed gdown-5.2.0\n",
      "Note: you may need to restart the kernel to use updated packages.\n"
     ]
    }
   ],
   "source": [
    "pip install gdown"
   ]
  },
  {
   "cell_type": "code",
   "execution_count": 4,
   "id": "96b9a7c4-cc6f-4206-8bfe-6034881e8569",
   "metadata": {},
   "outputs": [
    {
     "name": "stderr",
     "output_type": "stream",
     "text": [
      "Downloading...\n",
      "From (original): https://drive.google.com/uc?id=1Np7EjMYSZCl7M6Q92pt_MvOSSX6ggJPA\n",
      "From (redirected): https://drive.google.com/uc?id=1Np7EjMYSZCl7M6Q92pt_MvOSSX6ggJPA&confirm=t&uuid=5e2a6060-e3e0-4903-8a0c-bdf6cc1f550a\n",
      "To: /work/van-speech-nlp/jindaznb/jslpnb/mllm_experiments/models/hubert_linear_model.pt\n",
      "100%|██████████| 86.0M/86.0M [00:02<00:00, 33.4MB/s]\n"
     ]
    },
    {
     "data": {
      "text/plain": [
       "'hubert_linear_model.pt'"
      ]
     },
     "execution_count": 4,
     "metadata": {},
     "output_type": "execute_result"
    }
   ],
   "source": [
    "import gdown\n",
    "\n",
    "# 文件ID\n",
    "file_id = \"1Np7EjMYSZCl7M6Q92pt_MvOSSX6ggJPA\"\n",
    "# 构造下载URL\n",
    "url = f\"https://drive.google.com/uc?id={file_id}\"\n",
    "# 下载文件并保存\n",
    "output = \"hubert_linear_model.pt\"\n",
    "gdown.download(url, output, quiet=False)"
   ]
  },
  {
   "cell_type": "code",
   "execution_count": null,
   "id": "8afd6ef6",
   "metadata": {},
   "outputs": [],
   "source": []
  }
 ],
 "metadata": {
  "kernelspec": {
   "display_name": "Python 3 (ipykernel)",
   "language": "python",
   "name": "python3"
  },
  "language_info": {
   "codemirror_mode": {
    "name": "ipython",
    "version": 3
   },
   "file_extension": ".py",
   "mimetype": "text/x-python",
   "name": "python",
   "nbconvert_exporter": "python",
   "pygments_lexer": "ipython3",
   "version": "3.10.14"
  }
 },
 "nbformat": 4,
 "nbformat_minor": 5
}
