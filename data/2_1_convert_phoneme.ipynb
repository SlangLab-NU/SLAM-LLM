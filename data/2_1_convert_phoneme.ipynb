{
 "cells": [
  {
   "cell_type": "code",
   "execution_count": 1,
   "metadata": {},
   "outputs": [
    {
     "name": "stderr",
     "output_type": "stream",
     "text": [
      "Processing dev-clean.jsonl: 100%|██████████| 2703/2703 [01:43<00:00, 26.15it/s]\n",
      "Processing loaded_librispeech_test_clean.jsonl: 100%|██████████| 2620/2620 [01:39<00:00, 26.33it/s]\n",
      "Processing loaded_librispeech_test_other.jsonl: 100%|██████████| 2939/2939 [01:39<00:00, 29.53it/s]\n",
      "Processing train-clean-100.jsonl: 100%|██████████| 28539/28539 [32:01<00:00, 14.85it/s]\n",
      "Processing Files: 100%|██████████| 4/4 [37:04<00:00, 556.24s/it]\n"
     ]
    },
    {
     "ename": "",
     "evalue": "",
     "output_type": "error",
     "traceback": [
      "\u001b[1;31mThe Kernel crashed while executing code in the the current cell or a previous cell. Please review the code in the cell(s) to identify a possible cause of the failure. Click <a href='https://aka.ms/vscodeJupyterKernelCrash'>here</a> for more info. View Jupyter <a href='command:jupyter.viewOutput'>log</a> for further details."
     ]
    }
   ],
   "source": [
    "import os\n",
    "import json\n",
    "import re\n",
    "from tqdm import tqdm\n",
    "from g2p import make_g2p\n",
    "\n",
    "# Initialize G2P converter for English ARPAbet\n",
    "transducer = make_g2p('eng', 'eng-arpabet')\n",
    "\n",
    "def get_phonemes(sentence):\n",
    "    \"\"\"Convert sentence to phonemes using G2P.\"\"\"\n",
    "    phonemes_list = [transducer(word).output_string for word in re.findall(r'\\S+', sentence)]\n",
    "    phonemes = \" \".join(phonemes_list)\n",
    "    return phonemes\n",
    "\n",
    "def process_json_files(input_folder, output_folder):\n",
    "    \"\"\"Process all JSON files in the input folder and save the corresponding updated JSON files to the output folder.\"\"\"\n",
    "    # Ensure the output folder exists\n",
    "    os.makedirs(output_folder, exist_ok=True)\n",
    "\n",
    "    # Iterate through all files in the input folder\n",
    "    for file_name in tqdm(os.listdir(input_folder), desc=\"Processing Files\"):\n",
    "        if file_name.endswith('.jsonl'):  # Only process .jsonl files\n",
    "            input_file_path = os.path.join(input_folder, file_name)\n",
    "            output_file_path = os.path.join(output_folder, file_name)\n",
    "\n",
    "            # Open the input JSON file\n",
    "            with open(input_file_path, 'r', encoding='utf-8') as file:\n",
    "                data = file.readlines()\n",
    "\n",
    "            # Initialize list to store processed data\n",
    "            updated_data = []\n",
    "\n",
    "            # Iterate through each JSON line, process and update with phoneme transcript\n",
    "            for line in tqdm(data, desc=f\"Processing {file_name}\"):\n",
    "                data_dict = json.loads(line.strip())  # Load the JSON object\n",
    "                target_sentence = data_dict.get('target', '')  # Get the target (transcription) sentence\n",
    "                if target_sentence:\n",
    "                    phoneme_transcript = get_phonemes(target_sentence)  # Get phoneme transcript\n",
    "                    data_dict['phoneme'] = phoneme_transcript  # Add phoneme transcript to JSON object\n",
    "\n",
    "                updated_data.append(data_dict)  # Store the updated object\n",
    "\n",
    "            # Save the updated data back to the corresponding output JSON file\n",
    "            with open(output_file_path, 'w', encoding='utf-8') as output_file:\n",
    "                for updated_record in updated_data:\n",
    "                    json.dump(updated_record, output_file)\n",
    "                    output_file.write('\\n')\n",
    "\n",
    "# Define input and output folders\n",
    "input_folder = \"/work/van-speech-nlp/jindaznb/jslpnb/mllm_expriments/slam-llm/data/librispeech-100/\"  # Update this to your input folder path\n",
    "output_folder = \"/work/van-speech-nlp/jindaznb/jslpnb/mllm_expriments/slam-llm/data/librispeech-100_phoneme\"  # Update this to your output folder path\n",
    "\n",
    "# Process all JSON files\n",
    "process_json_files(input_folder, output_folder)"
   ]
  },
  {
   "cell_type": "code",
   "execution_count": null,
   "metadata": {},
   "outputs": [],
   "source": []
  }
 ],
 "metadata": {
  "kernelspec": {
   "display_name": "Python 3",
   "language": "python",
   "name": "python3"
  },
  "language_info": {
   "codemirror_mode": {
    "name": "ipython",
    "version": 3
   },
   "file_extension": ".py",
   "mimetype": "text/x-python",
   "name": "python",
   "nbconvert_exporter": "python",
   "pygments_lexer": "ipython3",
   "version": "3.10.14"
  },
  "orig_nbformat": 4
 },
 "nbformat": 4,
 "nbformat_minor": 2
}
