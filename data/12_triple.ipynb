{
 "cells": [
  {
   "cell_type": "code",
   "execution_count": 1,
   "metadata": {},
   "outputs": [
    {
     "name": "stdout",
     "output_type": "stream",
     "text": [
      "Merged train.jsonl written to /work/van-speech-nlp/jindaznb/jslpnb/mllm_experiments/slam-llm/data/ami_triple/train.jsonl\n",
      "Merged test.jsonl written to /work/van-speech-nlp/jindaznb/jslpnb/mllm_experiments/slam-llm/data/ami_triple/test.jsonl\n",
      "Merged validation.jsonl written to /work/van-speech-nlp/jindaznb/jslpnb/mllm_experiments/slam-llm/data/ami_triple/validation.jsonl\n"
     ]
    }
   ],
   "source": [
    "import os\n",
    "import json\n",
    "\n",
    "def merge_jsonl_files(folder1, folder2, output_folder):\n",
    "    # Ensure the output folder exists\n",
    "    os.makedirs(output_folder, exist_ok=True)\n",
    "    \n",
    "    # List of files to merge\n",
    "    file_names = [\"train.jsonl\", \"test.jsonl\", \"validation.jsonl\"]\n",
    "    \n",
    "    for file_name in file_names:\n",
    "        file1_path = os.path.join(folder1, file_name)\n",
    "        file2_path = os.path.join(folder2, file_name)\n",
    "        output_file_path = os.path.join(output_folder, file_name)\n",
    "        \n",
    "        # Read and merge content\n",
    "        merged_content = []\n",
    "        \n",
    "        # Read content from the first file\n",
    "        with open(file1_path, 'r') as f1:\n",
    "            for line in f1:\n",
    "                merged_content.append(json.loads(line))\n",
    "        \n",
    "        # Read content from the second file and append\n",
    "        with open(file2_path, 'r') as f2:\n",
    "            for line in f2:\n",
    "                merged_content.append(json.loads(line))\n",
    "        \n",
    "        # Write merged content to the output file in JSONL format\n",
    "        with open(output_file_path, 'w') as out_f:\n",
    "            for item in merged_content:\n",
    "                out_f.write(json.dumps(item) + '\\n')\n",
    "                \n",
    "        print(f\"Merged {file_name} written to {output_file_path}\")\n",
    "\n",
    "# Example usage\n",
    "folder1 = \"/work/van-speech-nlp/jindaznb/jslpnb/mllm_experiments/slam-llm/data/ami_phoneme_seperate\"\n",
    "folder2 = \"/work/van-speech-nlp/jindaznb/jslpnb/mllm_experiments/slam-llm/data/ami_nbest\"\n",
    "output_folder = \"/work/van-speech-nlp/jindaznb/jslpnb/mllm_experiments/slam-llm/data/ami_triple\"\n",
    "\n",
    "merge_jsonl_files(folder1, folder2, output_folder)"
   ]
  },
  {
   "cell_type": "code",
   "execution_count": null,
   "metadata": {},
   "outputs": [],
   "source": []
  }
 ],
 "metadata": {
  "kernelspec": {
   "display_name": "Python 3",
   "language": "python",
   "name": "python3"
  },
  "language_info": {
   "codemirror_mode": {
    "name": "ipython",
    "version": 3
   },
   "file_extension": ".py",
   "mimetype": "text/x-python",
   "name": "python",
   "nbconvert_exporter": "python",
   "pygments_lexer": "ipython3",
   "version": "3.10.14"
  },
  "orig_nbformat": 4
 },
 "nbformat": 4,
 "nbformat_minor": 2
}
