{
 "cells": [
  {
   "cell_type": "code",
   "execution_count": 3,
   "metadata": {},
   "outputs": [
    {
     "name": "stdout",
     "output_type": "stream",
     "text": [
      "Sampled 2 entries from /work/van-speech-nlp/jindaznb/jslpnb/mllm_experiments/slam-llm/data/ami_phoneme/test.jsonl and saved to /work/van-speech-nlp/jindaznb/jslpnb/mllm_experiments/slam-llm/data/ami_phoneme/test_small.jsonl.\n"
     ]
    }
   ],
   "source": [
    "import os\n",
    "import json\n",
    "import random\n",
    "\n",
    "def sample_n_json_entries(input_file, output_file, n=6, seed=42):\n",
    "    \"\"\"\n",
    "    Randomly sample n entries from the input JSONL file and save to a new JSONL file.\n",
    "\n",
    "    :param input_file: Path to the input JSONL file\n",
    "    :param output_file: Path to save the output sampled JSONL file\n",
    "    :param n: Number of samples to select, default is 6\n",
    "    :param seed: Random seed for reproducibility, default is 42\n",
    "    \"\"\"\n",
    "    # Set random seed for reproducibility\n",
    "    random.seed(seed)\n",
    "\n",
    "    # Read all lines from the input JSONL file\n",
    "    with open(input_file, 'r') as f:\n",
    "        lines = f.readlines()\n",
    "\n",
    "    # Randomly select n entries from the file\n",
    "    num_lines = len(lines)\n",
    "    if num_lines > 0:\n",
    "        sample_indices = random.sample(range(num_lines), min(n, num_lines))\n",
    "        sampled_lines = [lines[i] for i in sample_indices]\n",
    "\n",
    "        # Write the sampled entries to the new JSONL file\n",
    "        with open(output_file, 'w') as f:\n",
    "            f.writelines(sampled_lines)\n",
    "\n",
    "        print(f\"Sampled {len(sampled_lines)} entries from {input_file} and saved to {output_file}.\")\n",
    "    else:\n",
    "        print(f\"File {input_file} is empty or does not contain any lines.\")\n",
    "\n",
    "\n",
    "# Usage\n",
    "input_folder = '/work/van-speech-nlp/jindaznb/jslpnb/mllm_experiments/slam-llm/data/ami_phoneme'\n",
    "input_file_path = os.path.join(input_folder, f'test.jsonl')\n",
    "output_file_path = os.path.join(input_folder, 'test_small.jsonl')\n",
    "\n",
    "sample_n_json_entries(\n",
    "    input_file=input_file_path,\n",
    "    output_file=output_file_path,\n",
    "    n=2,\n",
    "    seed=42\n",
    ")"
   ]
  },
  {
   "cell_type": "code",
   "execution_count": null,
   "metadata": {},
   "outputs": [],
   "source": []
  }
 ],
 "metadata": {
  "kernelspec": {
   "display_name": "Python 3",
   "language": "python",
   "name": "python3"
  },
  "language_info": {
   "codemirror_mode": {
    "name": "ipython",
    "version": 3
   },
   "file_extension": ".py",
   "mimetype": "text/x-python",
   "name": "python",
   "nbconvert_exporter": "python",
   "pygments_lexer": "ipython3",
   "version": "3.10.14"
  }
 },
 "nbformat": 4,
 "nbformat_minor": 2
}
