{
 "cells": [
  {
   "cell_type": "code",
   "execution_count": 1,
   "metadata": {},
   "outputs": [
    {
     "name": "stdout",
     "output_type": "stream",
     "text": [
      "Filtered train ami_nbest dataset saved to /work/van-speech-nlp/jindaznb/jslpnb/mllm_experiments/slam-llm/data/ami_nbest/train.jsonl\n",
      "Filtered test ami_nbest dataset saved to /work/van-speech-nlp/jindaznb/jslpnb/mllm_experiments/slam-llm/data/ami_nbest/test.jsonl\n",
      "Filtered validation ami_nbest dataset saved to /work/van-speech-nlp/jindaznb/jslpnb/mllm_experiments/slam-llm/data/ami_nbest/validation.jsonl\n"
     ]
    }
   ],
   "source": [
    "import json\n",
    "import os\n",
    "\n",
    "# Base directories\n",
    "ami_dir = '/work/van-speech-nlp/jindaznb/jslpnb/mllm_experiments/slam-llm/data/ami'\n",
    "ami_nbest_dir = '/work/van-speech-nlp/jindaznb/jslpnb/mllm_experiments/slam-llm/data/ami_nbest'\n",
    "\n",
    "# Dataset splits to process\n",
    "splits = ['train', 'test', 'validation']\n",
    "\n",
    "for split in splits:\n",
    "    ami_file = os.path.join(ami_dir, f'{split}.jsonl')\n",
    "    ami_nbest_file = os.path.join(ami_nbest_dir, f'{split}.jsonl')\n",
    "    filtered_ami_nbest_file = os.path.join(ami_nbest_dir, f'{split}.jsonl')\n",
    "\n",
    "    # Load ami dataset and extract keys\n",
    "    ami_keys = set()\n",
    "    with open(ami_file, 'r') as f:\n",
    "        for line in f:\n",
    "            entry = json.loads(line)\n",
    "            ami_keys.add(entry['key'])\n",
    "\n",
    "    # Filter ami_nbest dataset\n",
    "    filtered_entries = []\n",
    "    with open(ami_nbest_file, 'r') as f:\n",
    "        for line in f:\n",
    "            entry = json.loads(line)\n",
    "            if entry['key'] in ami_keys:\n",
    "                filtered_entries.append(entry)\n",
    "\n",
    "    # Save the filtered ami_nbest dataset\n",
    "    with open(filtered_ami_nbest_file, 'w') as f:\n",
    "        for entry in filtered_entries:\n",
    "            f.write(json.dumps(entry) + '\\n')\n",
    "\n",
    "    print(f\"Filtered {split} ami_nbest dataset saved to {filtered_ami_nbest_file}\")\n"
   ]
  }
 ],
 "metadata": {
  "kernelspec": {
   "display_name": "Python 3",
   "language": "python",
   "name": "python3"
  },
  "language_info": {
   "codemirror_mode": {
    "name": "ipython",
    "version": 3
   },
   "file_extension": ".py",
   "mimetype": "text/x-python",
   "name": "python",
   "nbconvert_exporter": "python",
   "pygments_lexer": "ipython3",
   "version": "3.10.14"
  }
 },
 "nbformat": 4,
 "nbformat_minor": 2
}
