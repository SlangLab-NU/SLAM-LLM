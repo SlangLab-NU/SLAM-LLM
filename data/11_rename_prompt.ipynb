{
 "cells": [
  {
   "cell_type": "code",
   "execution_count": 2,
   "metadata": {},
   "outputs": [
    {
     "name": "stdout",
     "output_type": "stream",
     "text": [
      "Modification complete for test.jsonl, saved to /work/van-speech-nlp/jindaznb/jslpnb/mllm_experiments/slam-llm/data/ami_phoneme_only_solve_repeat/test.jsonl\n",
      "Modification complete for train.jsonl, saved to /work/van-speech-nlp/jindaznb/jslpnb/mllm_experiments/slam-llm/data/ami_phoneme_only_solve_repeat/train.jsonl\n",
      "Modification complete for validation.jsonl, saved to /work/van-speech-nlp/jindaznb/jslpnb/mllm_experiments/slam-llm/data/ami_phoneme_only_solve_repeat/validation.jsonl\n"
     ]
    }
   ],
   "source": [
    "import json\n",
    "import os\n",
    "\n",
    "# Specify the input folder path (replace with your actual path)\n",
    "input_folder_path = \"/work/van-speech-nlp/jindaznb/jslpnb/mllm_experiments/slam-llm/data/ami_phoneme_only\"\n",
    "\n",
    "# Define the output folder path by appending '_solve_repeat' to the input folder path\n",
    "output_folder_path = f\"{input_folder_path}_solve_repeat\"\n",
    "os.makedirs(output_folder_path, exist_ok=True)\n",
    "\n",
    "# Define the new prompt text\n",
    "new_prompt_text = \"Transcribe Speech to phonemes. Output the transcription directly without redundant content. Ensure that the output is not duplicated.\"\n",
    "\n",
    "# Iterate over all JSONL files in the input folder\n",
    "for filename in os.listdir(input_folder_path):\n",
    "    # Process only files ending in '.jsonl'\n",
    "    if filename.endswith(\".jsonl\"):\n",
    "        input_file = os.path.join(input_folder_path, filename)\n",
    "        output_file = os.path.join(output_folder_path, filename)  # Corresponding output file in the new folder\n",
    "\n",
    "        # List to hold modified JSON entries\n",
    "        modified_entries = []\n",
    "\n",
    "        # Read and modify each JSONL entry in the input file\n",
    "        with open(input_file, \"r\") as infile:\n",
    "            for line in infile:\n",
    "                entry = json.loads(line)\n",
    "                # Update 'prompt' field if it matches the specified text\n",
    "                if entry[\"prompt\"] == \"Transcribe Speech to phonemes.\":\n",
    "                    entry[\"prompt\"] = new_prompt_text\n",
    "\n",
    "                # Add the modified entry to the list\n",
    "                modified_entries.append(entry)\n",
    "\n",
    "        # Write modified entries to the output file\n",
    "        with open(output_file, \"w\") as outfile:\n",
    "            for entry in modified_entries:\n",
    "                json.dump(entry, outfile)\n",
    "                outfile.write(\"\\n\")\n",
    "\n",
    "        # Print confirmation for each processed file\n",
    "        print(f\"Modification complete for {filename}, saved to {output_file}\")\n"
   ]
  },
  {
   "cell_type": "code",
   "execution_count": 1,
   "metadata": {},
   "outputs": [
    {
     "name": "stdout",
     "output_type": "stream",
     "text": [
      "Modification complete for test.jsonl\n",
      "Modification complete for train.jsonl\n",
      "Modification complete for validation.jsonl\n"
     ]
    }
   ],
   "source": [
    "import json\n",
    "import os\n",
    "\n",
    "# Directory containing JSONL files\n",
    "folder_path = \"/work/van-speech-nlp/jindaznb/jslpnb/mllm_experiments/slam-llm/data/ami_phoneme_seperate\"\n",
    "\n",
    "# Define the original and replacement prompt texts\n",
    "new_prompt_text = \"Transcribe speech to text. Output the transcription directly without redundant content. Ensure that the output is not duplicated.\"\n",
    "original_prompt_text = \"Transcribe Speech to text.\"\n",
    "\n",
    "# Iterate over all files in the folder\n",
    "for filename in os.listdir(folder_path):\n",
    "    # Check if the file is a JSONL file\n",
    "    if filename.endswith(\".jsonl\"):\n",
    "        input_file = os.path.join(folder_path, filename)\n",
    "        \n",
    "        # Temporary storage for modified entries\n",
    "        modified_entries = []\n",
    "        \n",
    "        # Open the input JSONL file for reading\n",
    "        with open(input_file, \"r\") as infile:\n",
    "            # Read each line as a separate JSON object\n",
    "            for line in infile:\n",
    "                entry = json.loads(line)\n",
    "                # Update the 'prompt' field if it matches the new prompt text\n",
    "                if entry[\"prompt\"] == new_prompt_text:\n",
    "                    entry[\"prompt\"] = original_prompt_text\n",
    "                \n",
    "                # Append the modified entry to the list\n",
    "                modified_entries.append(entry)\n",
    "        \n",
    "        # Overwrite the original file with the modified entries\n",
    "        with open(input_file, \"w\") as outfile:\n",
    "            for entry in modified_entries:\n",
    "                json.dump(entry, outfile)\n",
    "                outfile.write(\"\\n\")\n",
    "        \n",
    "        print(f\"Modification complete for {filename}\")"
   ]
  },
  {
   "cell_type": "code",
   "execution_count": null,
   "metadata": {},
   "outputs": [],
   "source": []
  }
 ],
 "metadata": {
  "kernelspec": {
   "display_name": "Python 3",
   "language": "python",
   "name": "python3"
  },
  "language_info": {
   "codemirror_mode": {
    "name": "ipython",
    "version": 3
   },
   "file_extension": ".py",
   "mimetype": "text/x-python",
   "name": "python",
   "nbconvert_exporter": "python",
   "pygments_lexer": "ipython3",
   "version": "3.10.14"
  },
  "orig_nbformat": 4
 },
 "nbformat": 4,
 "nbformat_minor": 2
}
