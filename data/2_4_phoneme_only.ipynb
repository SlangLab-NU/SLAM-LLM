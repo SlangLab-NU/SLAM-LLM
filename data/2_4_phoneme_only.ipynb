{
 "cells": [
  {
   "cell_type": "code",
   "execution_count": 1,
   "metadata": {},
   "outputs": [
    {
     "name": "stdout",
     "output_type": "stream",
     "text": [
      "Processed 7545 entries and saved to /work/van-speech-nlp/jindaznb/jslpnb/mllm_experiments/slam-llm/data/ami_phoneme_only/test.jsonl\n",
      "Processed 66681 entries and saved to /work/van-speech-nlp/jindaznb/jslpnb/mllm_experiments/slam-llm/data/ami_phoneme_only/train.jsonl\n",
      "Processed 8348 entries and saved to /work/van-speech-nlp/jindaznb/jslpnb/mllm_experiments/slam-llm/data/ami_phoneme_only/validation.jsonl\n"
     ]
    }
   ],
   "source": [
    "import os\n",
    "import json\n",
    "\n",
    "def filter_even_lines(input_file, output_file):\n",
    "    \"\"\"\n",
    "    Reads a JSONL file line by line, preserves only the even lines (0-based indexing),\n",
    "    and writes them to a new output JSONL file.\n",
    "    \"\"\"\n",
    "    even_lines = []\n",
    "\n",
    "    # Read the input file line by line\n",
    "    with open(input_file, 'r') as infile:\n",
    "        lines = infile.readlines()\n",
    "\n",
    "        # Select only even lines (indexing starts at 0)\n",
    "        for index, line in enumerate(lines):\n",
    "            if index % 2 == 1:  # Select only even index lines\n",
    "                even_lines.append(json.loads(line.strip()))\n",
    "\n",
    "    # Write the filtered lines to the output file\n",
    "    with open(output_file, 'w') as outfile:\n",
    "        for entry in even_lines:\n",
    "            outfile.write(json.dumps(entry) + \"\\n\")\n",
    "\n",
    "    print(f\"Processed {len(even_lines)} entries and saved to {output_file}\")\n",
    "\n",
    "def process_all_jsonl_files(input_dir, output_dir):\n",
    "    \"\"\"\n",
    "    Processes all JSONL files from the input directory, applies the filter to preserve\n",
    "    only even lines, and saves them to the output directory with the same filenames.\n",
    "    \"\"\"\n",
    "    if not os.path.exists(output_dir):\n",
    "        os.makedirs(output_dir)\n",
    "\n",
    "    # Iterate over all files in the input directory\n",
    "    for filename in os.listdir(input_dir):\n",
    "        if filename.endswith(\".jsonl\"):\n",
    "            input_file = os.path.join(input_dir, filename)\n",
    "            output_file = os.path.join(output_dir, filename)\n",
    "\n",
    "            # Process the input file and generate the output file\n",
    "            filter_even_lines(input_file, output_file)\n",
    "\n",
    "# Example usage:\n",
    "input_folder = \"/work/van-speech-nlp/jindaznb/jslpnb/mllm_experiments/slam-llm/data/ami_phoneme_seperate\"\n",
    "output_folder = \"/work/van-speech-nlp/jindaznb/jslpnb/mllm_experiments/slam-llm/data/ami_phoneme_only\"\n",
    "process_all_jsonl_files(input_folder, output_folder)"
   ]
  },
  {
   "cell_type": "markdown",
   "metadata": {},
   "source": [
    "# clean up the file name"
   ]
  },
  {
   "cell_type": "code",
   "execution_count": 3,
   "metadata": {},
   "outputs": [
    {
     "name": "stdout",
     "output_type": "stream",
     "text": [
      "Renamed: librispeech-100_phoneme_seperate_test.jsonl -> test.jsonl\n",
      "Renamed: librispeech-100_phoneme_seperate_train.jsonl -> train.jsonl\n",
      "Renamed: librispeech-100_phoneme_seperate_val.jsonl -> val.jsonl\n"
     ]
    }
   ],
   "source": [
    "import os\n",
    "import re\n",
    "\n",
    "def clean_filenames(directory):\n",
    "    \"\"\"\n",
    "    Renames specific files in the directory based on a regular expression pattern.\n",
    "    Renames:\n",
    "    - librispeech-100_phoneme_seperate_train.jsonl -> train.jsonl\n",
    "    - librispeech-100_phoneme_seperate_val.jsonl -> val.jsonl\n",
    "    - librispeech-100_phoneme_seperate_test.jsonl -> test.jsonl\n",
    "    \"\"\"\n",
    "    # Define regex pattern to match the files\n",
    "    pattern = re.compile(r\"librispeech-100_phoneme_seperate_(train|val|test)\\.jsonl\")\n",
    "\n",
    "    # Iterate over all files in the directory\n",
    "    for filename in os.listdir(directory):\n",
    "        match = pattern.match(filename)\n",
    "        if match:\n",
    "            # Extract the captured group (train, val, test)\n",
    "            new_name = f\"{match.group(1)}.jsonl\"\n",
    "            old_path = os.path.join(directory, filename)\n",
    "            new_path = os.path.join(directory, new_name)\n",
    "\n",
    "            # Rename the file\n",
    "            os.rename(old_path, new_path)\n",
    "            print(f\"Renamed: {filename} -> {new_name}\")\n",
    "\n",
    "# Example usage:\n",
    "directory_path = \"/work/van-speech-nlp/jindaznb/jslpnb/mllm_experiments/slam-llm/data/librispeech-100_phoneme_only\"\n",
    "clean_filenames(directory_path)"
   ]
  },
  {
   "cell_type": "code",
   "execution_count": 6,
   "metadata": {},
   "outputs": [
    {
     "name": "stdout",
     "output_type": "stream",
     "text": [
      "librispeech-100_phoneme_seperate_test.jsonl: 5240 lines\n",
      "First 4 lines:\n",
      "Line 1: {\"key\": \"6930-75918-0000\", \"source\": \"/work/van-speech-nlp/librispeech/LibriSpeech/test-clean/6930/75918/6930-75918-0000.flac\", \"prompt\": \"Transcribe Speech to text.\", \"target\": \"concord returned to its place amidst the tents\"}\n",
      "Line 2: {\"key\": \"6930-75918-0000\", \"source\": \"/work/van-speech-nlp/librispeech/LibriSpeech/test-clean/6930/75918/6930-75918-0000.flac\", \"prompt\": \"Transcribe Speech to phonemes.\", \"target\": \"K AA N K AO R D  R IH T ER N D  T UW  IH T S  P L EY S  AH M IH D S T  DH AH  T EH N T S \"}\n",
      "Line 3: {\"key\": \"6930-75918-0001\", \"source\": \"/work/van-speech-nlp/librispeech/LibriSpeech/test-clean/6930/75918/6930-75918-0001.flac\", \"prompt\": \"Transcribe Speech to text.\", \"target\": \"the english forwarded to the french baskets of flowers of which they had made a plentiful provision to greet the arrival of the young princess the french in return invited the english to a supper which was to be given the next day\"}\n",
      "Line 4: {\"key\": \"6930-75918-0001\", \"source\": \"/work/van-speech-nlp/librispeech/LibriSpeech/test-clean/6930/75918/6930-75918-0001.flac\", \"prompt\": \"Transcribe Speech to phonemes.\", \"target\": \"DH AH  IH NG G L IH SH  F AO R W ER D IH D  T UW  DH AH  F R EH N CH  B AE S K AH T S  AH V  F L AW ER Z  AH V  W IH CH  DH EY  HH AE D  M EY D  AH  P L EH N T AH F AH L  P R AH V IH ZH AH N  T UW  G R IY T  DH AH  ER AY V AH L  AH V  DH AH  Y AH NG  P R IH N S EH S  DH AH  F R EH N CH  IH N  R IH T ER N  IH N V AY T AH D  DH AH  IH NG G L IH SH  T UW  AH  S AH P ER  W IH CH  W AA Z  T UW  B IY  G IH V AH N  DH AH  N EH K S T  D EY \"}\n",
      "--------------------------------------------------\n",
      "librispeech-100_phoneme_seperate_train.jsonl: 57078 lines\n",
      "First 4 lines:\n",
      "Line 1: {\"key\": \"374-180298-0000\", \"source\": \"/work/van-speech-nlp/librispeech/LibriSpeech/train-clean-100/374/180298/374-180298-0000.flac\", \"prompt\": \"Transcribe Speech to text.\", \"target\": \"chapter sixteen i might have told you of the beginning of this liaison in a few lines but i wanted you to see every step by which we came i to agree to whatever marguerite wished\"}\n",
      "Line 2: {\"key\": \"374-180298-0000\", \"source\": \"/work/van-speech-nlp/librispeech/LibriSpeech/train-clean-100/374/180298/374-180298-0000.flac\", \"prompt\": \"Transcribe Speech to phonemes.\", \"target\": \"CH AE P T ER  S IH K S T IY N  AY  M AY T  HH AE V  T OW L D  Y UW  AH V  DH AH  B IH G IH N IH NG  AH V  DH IH S  L IY EY Z AA N  IH N  AH  F Y UW  L AY N Z  B AH T  AY  W AO N T IH D  Y UW  T UW  S IY  EH V ER IY  S T EH P  B AY  W IH CH  W IY  K EY M  AY  T UW  AH G R IY  T UW  W AH T EH V ER  M AA R G ER IY T  W IH SH T \"}\n",
      "Line 3: {\"key\": \"374-180298-0001\", \"source\": \"/work/van-speech-nlp/librispeech/LibriSpeech/train-clean-100/374/180298/374-180298-0001.flac\", \"prompt\": \"Transcribe Speech to text.\", \"target\": \"marguerite to be unable to live apart from me it was the day after the evening when she came to see me that i sent her manon lescaut from that time seeing that i could not change my mistress's life i changed my own\"}\n",
      "Line 4: {\"key\": \"374-180298-0001\", \"source\": \"/work/van-speech-nlp/librispeech/LibriSpeech/train-clean-100/374/180298/374-180298-0001.flac\", \"prompt\": \"Transcribe Speech to phonemes.\", \"target\": \"M AA R G ER IY T  T UW  B IY  AH N EY B AH L  T UW  L AY V  AH P AA R T  F R AH M  M IY  IH T  W AA Z  DH AH  D EY  AE F T ER  DH AH  IY V N IH NG  W EH N  SH IY  K EY M  T UW  S IY  M IY  DH AE T  AY  S EH N T  HH ER  M AA N AO N   F R AH M  DH AE T  T AY M  S IY IH NG  DH AE T  AY  K UH D  N AA T  CH EY N JH  M AY  M IH S T R AH S 'EH S  L AY F  AY  CH EY N JH D  M AY  OW N \"}\n",
      "--------------------------------------------------\n",
      "librispeech-100_phoneme_seperate_val.jsonl: 5406 lines\n",
      "First 4 lines:\n",
      "Line 1: {\"key\": \"2277-149896-0000\", \"source\": \"/work/van-speech-nlp/librispeech/LibriSpeech/dev-clean/2277/149896/2277-149896-0000.flac\", \"prompt\": \"Transcribe Speech to text.\", \"target\": \"he was in a fevered state of mind owing to the blight his wife's action threatened to cast upon his entire future\"}\n",
      "Line 2: {\"key\": \"2277-149896-0000\", \"source\": \"/work/van-speech-nlp/librispeech/LibriSpeech/dev-clean/2277/149896/2277-149896-0000.flac\", \"prompt\": \"Transcribe Speech to phonemes.\", \"target\": \"HH IY  W AA Z  IH N  AH  F IY V ER D  S T EY T  AH V  M AY N D  OW IH NG  T UW  DH AH  B L AY T  HH IH Z  W AY F 'EH S  AE K SH AH N  TH R EH T AH N D  T UW  K AE S T  AH P AA N  HH IH Z  IH N T AY ER  F Y UW CH ER \"}\n",
      "Line 3: {\"key\": \"2277-149896-0001\", \"source\": \"/work/van-speech-nlp/librispeech/LibriSpeech/dev-clean/2277/149896/2277-149896-0001.flac\", \"prompt\": \"Transcribe Speech to text.\", \"target\": \"he would have to pay her the money which she would now regularly demand or there would be trouble it did not matter what he did\"}\n",
      "Line 4: {\"key\": \"2277-149896-0001\", \"source\": \"/work/van-speech-nlp/librispeech/LibriSpeech/dev-clean/2277/149896/2277-149896-0001.flac\", \"prompt\": \"Transcribe Speech to phonemes.\", \"target\": \"HH IY  W UH D  HH AE V  T UW  P EY  HH ER  DH AH  M AH N IY  W IH CH  SH IY  W UH D  N AW  R EH G Y AH L ER L IY  D IH M AE N D  AO R  DH EH R  W UH D  B IY  T R AH B AH L  IH T  D IH D  N AA T  M AE T ER  W AH T  HH IY  D IH D \"}\n",
      "--------------------------------------------------\n",
      "loaded_librispeech_test_other.jsonl: 5878 lines\n",
      "First 4 lines:\n",
      "Line 1: {\"key\": \"7902-96591-0000\", \"source\": \"/work/van-speech-nlp/librispeech/LibriSpeech/test-other/7902/96591/7902-96591-0000.flac\", \"prompt\": \"Transcribe Speech to text.\", \"target\": \"i am from the cutter lying off the coast\"}\n",
      "Line 2: {\"key\": \"7902-96591-0000\", \"source\": \"/work/van-speech-nlp/librispeech/LibriSpeech/test-other/7902/96591/7902-96591-0000.flac\", \"prompt\": \"Transcribe Speech to phonemes.\", \"target\": \"AY  AE M  F R AH M  DH AH  K AH T ER  L AY IH NG  AO F  DH AH  K OW S T \"}\n",
      "Line 3: {\"key\": \"7902-96591-0001\", \"source\": \"/work/van-speech-nlp/librispeech/LibriSpeech/test-other/7902/96591/7902-96591-0001.flac\", \"prompt\": \"Transcribe Speech to text.\", \"target\": \"don't cry he said i was obliged to come\"}\n",
      "Line 4: {\"key\": \"7902-96591-0001\", \"source\": \"/work/van-speech-nlp/librispeech/LibriSpeech/test-other/7902/96591/7902-96591-0001.flac\", \"prompt\": \"Transcribe Speech to phonemes.\", \"target\": \"D AA N 'T IY  K R AY  HH IY  S EH D  AY  W AA Z  AH B L AY JH D  T UW  K AH M \"}\n",
      "--------------------------------------------------\n",
      "test_small.jsonl: 8 lines\n",
      "First 4 lines:\n",
      "Line 1: {\"key\": \"6930-75918-0000\", \"source\": \"/work/van-speech-nlp/librispeech/LibriSpeech/test-clean/6930/75918/6930-75918-0000.flac\", \"prompt\": \"Transcribe Speech to text.\", \"target\": \"concord returned to its place amidst the tents\"}\n",
      "Line 2: {\"key\": \"6930-75918-0000\", \"source\": \"/work/van-speech-nlp/librispeech/LibriSpeech/test-clean/6930/75918/6930-75918-0000.flac\", \"prompt\": \"Transcribe Speech to phonemes.\", \"target\": \"K AA N K AO R D  R IH T ER N D  T UW  IH T S  P L EY S  AH M IH D S T  DH AH  T EH N T S \"}\n",
      "Line 3: {\"key\": \"6930-75918-0001\", \"source\": \"/work/van-speech-nlp/librispeech/LibriSpeech/test-clean/6930/75918/6930-75918-0001.flac\", \"prompt\": \"Transcribe Speech to text.\", \"target\": \"the english forwarded to the french baskets of flowers of which they had made a plentiful provision to greet the arrival of the young princess the french in return invited the english to a supper which was to be given the next day\"}\n",
      "Line 4: {\"key\": \"6930-75918-0001\", \"source\": \"/work/van-speech-nlp/librispeech/LibriSpeech/test-clean/6930/75918/6930-75918-0001.flac\", \"prompt\": \"Transcribe Speech to phonemes.\", \"target\": \"DH AH  IH NG G L IH SH  F AO R W ER D IH D  T UW  DH AH  F R EH N CH  B AE S K AH T S  AH V  F L AW ER Z  AH V  W IH CH  DH EY  HH AE D  M EY D  AH  P L EH N T AH F AH L  P R AH V IH ZH AH N  T UW  G R IY T  DH AH  ER AY V AH L  AH V  DH AH  Y AH NG  P R IH N S EH S  DH AH  F R EH N CH  IH N  R IH T ER N  IH N V AY T AH D  DH AH  IH NG G L IH SH  T UW  AH  S AH P ER  W IH CH  W AA Z  T UW  B IY  G IH V AH N  DH AH  N EH K S T  D EY \"}\n",
      "--------------------------------------------------\n"
     ]
    }
   ],
   "source": [
    "import os\n",
    "\n",
    "def count_lines_and_preview_jsonl(directory):\n",
    "    \"\"\"\n",
    "    Prints the name of each JSONL file in the specified directory, the number of lines in each file,\n",
    "    and the first 4 lines of each file for debugging purposes.\n",
    "    \"\"\"\n",
    "    # Iterate over all files in the directory\n",
    "    for filename in os.listdir(directory):\n",
    "        # Check if the file is a JSONL file\n",
    "        if filename.endswith(\".jsonl\"):\n",
    "            file_path = os.path.join(directory, filename)\n",
    "            \n",
    "            # Count the number of lines in the file\n",
    "            with open(file_path, 'r') as f:\n",
    "                lines = f.readlines()\n",
    "                line_count = len(lines)\n",
    "            \n",
    "            # Print the result\n",
    "            print(f\"{filename}: {line_count} lines\")\n",
    "            print(\"First 4 lines:\")\n",
    "            \n",
    "            # Print up to the first 4 lines for debugging\n",
    "            for i, line in enumerate(lines[:4]):\n",
    "                print(f\"Line {i+1}: {line.strip()}\")\n",
    "            \n",
    "            print(\"-\" * 50)  # Separator for readability\n",
    "\n",
    "# Example usage:\n",
    "directory_path = \"/work/van-speech-nlp/jindaznb/jslpnb/mllm_experiments/slam-llm/data/librispeech-100_phoneme_seperate\"\n",
    "count_lines_and_preview_jsonl(directory_path)"
   ]
  },
  {
   "cell_type": "code",
   "execution_count": 7,
   "metadata": {},
   "outputs": [
    {
     "name": "stdout",
     "output_type": "stream",
     "text": [
      "loaded_librispeech_test_other.jsonl: 2939 lines\n",
      "First 4 lines:\n",
      "Line 1: {\"key\": \"7902-96591-0000\", \"source\": \"/work/van-speech-nlp/librispeech/LibriSpeech/test-other/7902/96591/7902-96591-0000.flac\", \"prompt\": \"Transcribe Speech to phonemes.\", \"target\": \"AY  AE M  F R AH M  DH AH  K AH T ER  L AY IH NG  AO F  DH AH  K OW S T \"}\n",
      "Line 2: {\"key\": \"7902-96591-0001\", \"source\": \"/work/van-speech-nlp/librispeech/LibriSpeech/test-other/7902/96591/7902-96591-0001.flac\", \"prompt\": \"Transcribe Speech to phonemes.\", \"target\": \"D AA N 'T IY  K R AY  HH IY  S EH D  AY  W AA Z  AH B L AY JH D  T UW  K AH M \"}\n",
      "Line 3: {\"key\": \"7902-96591-0002\", \"source\": \"/work/van-speech-nlp/librispeech/LibriSpeech/test-other/7902/96591/7902-96591-0002.flac\", \"prompt\": \"Transcribe Speech to phonemes.\", \"target\": \"AH N D  AH N D  Y UW  HH AE V  N AA T  F AW N D  AW T  EH N IY TH IH NG  K EY M  IH N  K W IH K  F R AY T AH N D  T OW N Z \"}\n",
      "Line 4: {\"key\": \"7902-96591-0003\", \"source\": \"/work/van-speech-nlp/librispeech/LibriSpeech/test-other/7902/96591/7902-96591-0003.flac\", \"prompt\": \"Transcribe Speech to phonemes.\", \"target\": \"AY  W IH SH  Y UW  W UH D  B IH L IY V  M IY  DH AE T  AY  AE M  IH N  AE Z  G R EY T  T R AH B AH L  AH B AW T  IH T  AE Z  Y UW  AA R \"}\n",
      "--------------------------------------------------\n",
      "test.jsonl: 2620 lines\n",
      "First 4 lines:\n",
      "Line 1: {\"key\": \"6930-75918-0000\", \"source\": \"/work/van-speech-nlp/librispeech/LibriSpeech/test-clean/6930/75918/6930-75918-0000.flac\", \"prompt\": \"Transcribe Speech to phonemes.\", \"target\": \"K AA N K AO R D  R IH T ER N D  T UW  IH T S  P L EY S  AH M IH D S T  DH AH  T EH N T S \"}\n",
      "Line 2: {\"key\": \"6930-75918-0001\", \"source\": \"/work/van-speech-nlp/librispeech/LibriSpeech/test-clean/6930/75918/6930-75918-0001.flac\", \"prompt\": \"Transcribe Speech to phonemes.\", \"target\": \"DH AH  IH NG G L IH SH  F AO R W ER D IH D  T UW  DH AH  F R EH N CH  B AE S K AH T S  AH V  F L AW ER Z  AH V  W IH CH  DH EY  HH AE D  M EY D  AH  P L EH N T AH F AH L  P R AH V IH ZH AH N  T UW  G R IY T  DH AH  ER AY V AH L  AH V  DH AH  Y AH NG  P R IH N S EH S  DH AH  F R EH N CH  IH N  R IH T ER N  IH N V AY T AH D  DH AH  IH NG G L IH SH  T UW  AH  S AH P ER  W IH CH  W AA Z  T UW  B IY  G IH V AH N  DH AH  N EH K S T  D EY \"}\n",
      "Line 3: {\"key\": \"6930-75918-0002\", \"source\": \"/work/van-speech-nlp/librispeech/LibriSpeech/test-clean/6930/75918/6930-75918-0002.flac\", \"prompt\": \"Transcribe Speech to phonemes.\", \"target\": \"K AH N G R AE CH AH L EY SH AH N Z  W ER  P AO R D  IH N  AH P AA N  DH AH  P R IH N S EH S  EH V R IY W EH R  D UH R IH NG  HH ER  JH ER N IY \"}\n",
      "Line 4: {\"key\": \"6930-75918-0003\", \"source\": \"/work/van-speech-nlp/librispeech/LibriSpeech/test-clean/6930/75918/6930-75918-0003.flac\", \"prompt\": \"Transcribe Speech to phonemes.\", \"target\": \"F R AH M  DH AH  R IH S P EH K T  P EY D  HH ER  AA N  AO L  S AY D Z  SH IY  S IY M D  L AY K  AH  K W IY N  AH N D  F R AH M  DH AH  AE D ER EY SH AH N  W IH DH  W IH CH  SH IY  W AA Z  T R IY T IH D  B AY  T UW  AO R  TH R IY  SH IY  AH P IH R D  AE N  AA B JH EH K T  AH V  W ER SH AH P  DH AH  K W IY N  M AH DH ER  G EY V  DH AH  F R EH N CH  DH AH  M OW S T  AH F EH K SH AH N AH T  R IH S EH P SH AH N  F R AE N S  W AA Z  HH ER  N EY T IH V  K AH N T R IY  AH N D  SH IY  HH AE D  S AH F ER D  T UW  M AH CH  AH N HH AE P IY N IH S  IH N  IH NG G L AH N D  F AO R  IH NG G L AH N D  T UW  HH AE V  M EY D  HH ER  F ER G EH T  F R AE N S \"}\n",
      "--------------------------------------------------\n",
      "test_small.jsonl: 4 lines\n",
      "First 4 lines:\n",
      "Line 1: {\"key\": \"6930-75918-0000\", \"source\": \"/work/van-speech-nlp/librispeech/LibriSpeech/test-clean/6930/75918/6930-75918-0000.flac\", \"prompt\": \"Transcribe Speech to phonemes.\", \"target\": \"K AA N K AO R D  R IH T ER N D  T UW  IH T S  P L EY S  AH M IH D S T  DH AH  T EH N T S \"}\n",
      "Line 2: {\"key\": \"6930-75918-0001\", \"source\": \"/work/van-speech-nlp/librispeech/LibriSpeech/test-clean/6930/75918/6930-75918-0001.flac\", \"prompt\": \"Transcribe Speech to phonemes.\", \"target\": \"DH AH  IH NG G L IH SH  F AO R W ER D IH D  T UW  DH AH  F R EH N CH  B AE S K AH T S  AH V  F L AW ER Z  AH V  W IH CH  DH EY  HH AE D  M EY D  AH  P L EH N T AH F AH L  P R AH V IH ZH AH N  T UW  G R IY T  DH AH  ER AY V AH L  AH V  DH AH  Y AH NG  P R IH N S EH S  DH AH  F R EH N CH  IH N  R IH T ER N  IH N V AY T AH D  DH AH  IH NG G L IH SH  T UW  AH  S AH P ER  W IH CH  W AA Z  T UW  B IY  G IH V AH N  DH AH  N EH K S T  D EY \"}\n",
      "Line 3: {\"key\": \"6930-75918-0002\", \"source\": \"/work/van-speech-nlp/librispeech/LibriSpeech/test-clean/6930/75918/6930-75918-0002.flac\", \"prompt\": \"Transcribe Speech to phonemes.\", \"target\": \"K AH N G R AE CH AH L EY SH AH N Z  W ER  P AO R D  IH N  AH P AA N  DH AH  P R IH N S EH S  EH V R IY W EH R  D UH R IH NG  HH ER  JH ER N IY \"}\n",
      "Line 4: {\"key\": \"6930-75918-0003\", \"source\": \"/work/van-speech-nlp/librispeech/LibriSpeech/test-clean/6930/75918/6930-75918-0003.flac\", \"prompt\": \"Transcribe Speech to phonemes.\", \"target\": \"F R AH M  DH AH  R IH S P EH K T  P EY D  HH ER  AA N  AO L  S AY D Z  SH IY  S IY M D  L AY K  AH  K W IY N  AH N D  F R AH M  DH AH  AE D ER EY SH AH N  W IH DH  W IH CH  SH IY  W AA Z  T R IY T IH D  B AY  T UW  AO R  TH R IY  SH IY  AH P IH R D  AE N  AA B JH EH K T  AH V  W ER SH AH P  DH AH  K W IY N  M AH DH ER  G EY V  DH AH  F R EH N CH  DH AH  M OW S T  AH F EH K SH AH N AH T  R IH S EH P SH AH N  F R AE N S  W AA Z  HH ER  N EY T IH V  K AH N T R IY  AH N D  SH IY  HH AE D  S AH F ER D  T UW  M AH CH  AH N HH AE P IY N IH S  IH N  IH NG G L AH N D  F AO R  IH NG G L AH N D  T UW  HH AE V  M EY D  HH ER  F ER G EH T  F R AE N S \"}\n",
      "--------------------------------------------------\n",
      "train.jsonl: 28539 lines\n",
      "First 4 lines:\n",
      "Line 1: {\"key\": \"374-180298-0000\", \"source\": \"/work/van-speech-nlp/librispeech/LibriSpeech/train-clean-100/374/180298/374-180298-0000.flac\", \"prompt\": \"Transcribe Speech to phonemes.\", \"target\": \"CH AE P T ER  S IH K S T IY N  AY  M AY T  HH AE V  T OW L D  Y UW  AH V  DH AH  B IH G IH N IH NG  AH V  DH IH S  L IY EY Z AA N  IH N  AH  F Y UW  L AY N Z  B AH T  AY  W AO N T IH D  Y UW  T UW  S IY  EH V ER IY  S T EH P  B AY  W IH CH  W IY  K EY M  AY  T UW  AH G R IY  T UW  W AH T EH V ER  M AA R G ER IY T  W IH SH T \"}\n",
      "Line 2: {\"key\": \"374-180298-0001\", \"source\": \"/work/van-speech-nlp/librispeech/LibriSpeech/train-clean-100/374/180298/374-180298-0001.flac\", \"prompt\": \"Transcribe Speech to phonemes.\", \"target\": \"M AA R G ER IY T  T UW  B IY  AH N EY B AH L  T UW  L AY V  AH P AA R T  F R AH M  M IY  IH T  W AA Z  DH AH  D EY  AE F T ER  DH AH  IY V N IH NG  W EH N  SH IY  K EY M  T UW  S IY  M IY  DH AE T  AY  S EH N T  HH ER  M AA N AO N   F R AH M  DH AE T  T AY M  S IY IH NG  DH AE T  AY  K UH D  N AA T  CH EY N JH  M AY  M IH S T R AH S 'EH S  L AY F  AY  CH EY N JH D  M AY  OW N \"}\n",
      "Line 3: {\"key\": \"374-180298-0002\", \"source\": \"/work/van-speech-nlp/librispeech/LibriSpeech/train-clean-100/374/180298/374-180298-0002.flac\", \"prompt\": \"Transcribe Speech to phonemes.\", \"target\": \"AY  W IH SH T  AH B AH V  AO L  N AA T  T UW  L IY V  M AY S EH L F  T AY M  T UW  TH IH NG K  OW V ER  DH AH  P AH Z IH SH AH N  AY  HH AE D  AE K S EH P T IH D  F AO R  IH N  S P AY T  AH V  M AY S EH L F  IH T  W AA Z  AH  G R EY T  D IH S T R EH S  T UW  M IY  DH AH S  M AY  L AY F  JH EH N ER AH L IY  S OW  K AA M \"}\n",
      "Line 4: {\"key\": \"374-180298-0003\", \"source\": \"/work/van-speech-nlp/librispeech/LibriSpeech/train-clean-100/374/180298/374-180298-0003.flac\", \"prompt\": \"Transcribe Speech to phonemes.\", \"target\": \"AH S UW M D  AO L  AE T  W AH N S  AE N  AH P IH R AH N S  AH V  N OY Z  AH N D  D IH S AO R D ER  N EH V ER  B IH L IY V  HH AW EH V ER  D IH S IH N T R IH S T IH D  DH AH  L AH V  AH V  AH  K EH P T  W UH M AH N  M EY  B IY  DH AE T  IH T  W IH L  K AA S T  W AH N  N AH TH IH NG \"}\n",
      "--------------------------------------------------\n",
      "val.jsonl: 2703 lines\n",
      "First 4 lines:\n",
      "Line 1: {\"key\": \"2277-149896-0000\", \"source\": \"/work/van-speech-nlp/librispeech/LibriSpeech/dev-clean/2277/149896/2277-149896-0000.flac\", \"prompt\": \"Transcribe Speech to phonemes.\", \"target\": \"HH IY  W AA Z  IH N  AH  F IY V ER D  S T EY T  AH V  M AY N D  OW IH NG  T UW  DH AH  B L AY T  HH IH Z  W AY F 'EH S  AE K SH AH N  TH R EH T AH N D  T UW  K AE S T  AH P AA N  HH IH Z  IH N T AY ER  F Y UW CH ER \"}\n",
      "Line 2: {\"key\": \"2277-149896-0001\", \"source\": \"/work/van-speech-nlp/librispeech/LibriSpeech/dev-clean/2277/149896/2277-149896-0001.flac\", \"prompt\": \"Transcribe Speech to phonemes.\", \"target\": \"HH IY  W UH D  HH AE V  T UW  P EY  HH ER  DH AH  M AH N IY  W IH CH  SH IY  W UH D  N AW  R EH G Y AH L ER L IY  D IH M AE N D  AO R  DH EH R  W UH D  B IY  T R AH B AH L  IH T  D IH D  N AA T  M AE T ER  W AH T  HH IY  D IH D \"}\n",
      "Line 3: {\"key\": \"2277-149896-0002\", \"source\": \"/work/van-speech-nlp/librispeech/LibriSpeech/dev-clean/2277/149896/2277-149896-0002.flac\", \"prompt\": \"Transcribe Speech to phonemes.\", \"target\": \" W AO K T  DH AH  F L AO R  M EH N T AH L IY  ER EY N JH IH NG  DH AH  CH IY F  P OY N T S  AH V  HH IH Z  S IH CH UW EY SH AH N \"}\n",
      "Line 4: {\"key\": \"2277-149896-0003\", \"source\": \"/work/van-speech-nlp/librispeech/LibriSpeech/dev-clean/2277/149896/2277-149896-0003.flac\", \"prompt\": \"Transcribe Speech to phonemes.\", \"target\": \"HH IY  AO L S OW  TH AO T  AH V  HH IH Z  M AE N IH JH IH R IY AH L  P AH Z IH SH AH N \"}\n",
      "--------------------------------------------------\n"
     ]
    }
   ],
   "source": [
    "directory_path = \"/work/van-speech-nlp/jindaznb/jslpnb/mllm_experiments/slam-llm/data/librispeech-100_phoneme_only\"\n",
    "count_lines_and_preview_jsonl(directory_path)"
   ]
  },
  {
   "cell_type": "code",
   "execution_count": null,
   "metadata": {},
   "outputs": [],
   "source": []
  }
 ],
 "metadata": {
  "kernelspec": {
   "display_name": "Python 3",
   "language": "python",
   "name": "python3"
  },
  "language_info": {
   "codemirror_mode": {
    "name": "ipython",
    "version": 3
   },
   "file_extension": ".py",
   "mimetype": "text/x-python",
   "name": "python",
   "nbconvert_exporter": "python",
   "pygments_lexer": "ipython3",
   "version": "3.6.8"
  },
  "orig_nbformat": 4
 },
 "nbformat": 4,
 "nbformat_minor": 2
}
