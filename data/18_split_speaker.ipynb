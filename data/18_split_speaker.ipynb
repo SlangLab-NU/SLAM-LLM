{
 "cells": [
  {
   "cell_type": "code",
   "execution_count": 6,
   "metadata": {},
   "outputs": [
    {
     "name": "stdout",
     "output_type": "stream",
     "text": [
      "Unique speaker names have been saved to their respective files.\n"
     ]
    }
   ],
   "source": [
    "import pandas as pd\n",
    "\n",
    "# Load the dataset\n",
    "df = pd.read_csv('/work/van-speech-nlp/jindaznb/jslpnb/mllm_experiments/aphasia/data_processed/dataset_splitted.csv')\n",
    "\n",
    "# Define the splits and corresponding output files\n",
    "splits = {\n",
    "    'train': 'train_aphasia_bank.txt',\n",
    "    'validation': 'valid_aphasia_bank.txt',\n",
    "    'test': 'test_aphasia_bank.txt'\n",
    "}\n",
    "\n",
    "# Process each split\n",
    "for split, output_file in splits.items():\n",
    "    # Filter rows for the current split\n",
    "    split_df = df[df['split'] == split]\n",
    "    \n",
    "    # Extract unique speaker names\n",
    "    unique_speakers = split_df['name'].unique()\n",
    "    \n",
    "    # Save unique speaker names to the corresponding text file\n",
    "    with open(output_file, 'w') as f:\n",
    "        for speaker in unique_speakers:\n",
    "            f.write(f\"{speaker}\\n\")\n",
    "\n",
    "print(\"Unique speaker names have been saved to their respective files.\")"
   ]
  },
  {
   "cell_type": "code",
   "execution_count": 7,
   "metadata": {},
   "outputs": [
    {
     "name": "stdout",
     "output_type": "stream",
     "text": [
      "Overlap between train and valid: {'Participant'}\n",
      "Overlap between train and test: {'tcu03a', 'Participant'}\n",
      "Overlap between valid and test: {'Participant'}\n"
     ]
    }
   ],
   "source": [
    "# Define the file paths\n",
    "train_file = 'train_aphasia_bank.txt'\n",
    "valid_file = 'valid_aphasia_bank.txt'\n",
    "test_file = 'test_aphasia_bank.txt'\n",
    "\n",
    "# Function to read speaker names from a file into a set\n",
    "def read_speakers(file_path):\n",
    "    with open(file_path, 'r') as file:\n",
    "        return set(line.strip() for line in file)\n",
    "\n",
    "# Read speaker names from each file\n",
    "train_speakers = read_speakers(train_file)\n",
    "valid_speakers = read_speakers(valid_file)\n",
    "test_speakers = read_speakers(test_file)\n",
    "\n",
    "# Find overlaps between the sets\n",
    "train_valid_overlap = train_speakers.intersection(valid_speakers)\n",
    "train_test_overlap = train_speakers.intersection(test_speakers)\n",
    "valid_test_overlap = valid_speakers.intersection(test_speakers)\n",
    "\n",
    "# Print the results\n",
    "print(f\"Overlap between train and valid: {train_valid_overlap}\")\n",
    "print(f\"Overlap between train and test: {train_test_overlap}\")\n",
    "print(f\"Overlap between valid and test: {valid_test_overlap}\")"
   ]
  }
 ],
 "metadata": {
  "kernelspec": {
   "display_name": "Python 3",
   "language": "python",
   "name": "python3"
  },
  "language_info": {
   "codemirror_mode": {
    "name": "ipython",
    "version": 3
   },
   "file_extension": ".py",
   "mimetype": "text/x-python",
   "name": "python",
   "nbconvert_exporter": "python",
   "pygments_lexer": "ipython3",
   "version": "3.10.14"
  },
  "orig_nbformat": 4
 },
 "nbformat": 4,
 "nbformat_minor": 2
}
