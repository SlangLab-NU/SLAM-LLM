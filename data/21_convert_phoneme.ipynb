{
 "cells": [
  {
   "cell_type": "code",
   "execution_count": 1,
   "metadata": {},
   "outputs": [
    {
     "name": "stderr",
     "output_type": "stream",
     "text": [
      "Processing test.jsonl: 100%|██████████| 652/652 [00:01<00:00, 334.79it/s]\n",
      "Processing train.jsonl: 100%|██████████| 2298/2298 [00:07<00:00, 321.26it/s]\n",
      "Processing validation.jsonl: 100%|██████████| 341/341 [00:00<00:00, 350.17it/s]\n",
      "Processing Files: 100%|██████████| 3/3 [00:10<00:00,  3.45s/it]\n"
     ]
    }
   ],
   "source": [
    "import os\n",
    "import json\n",
    "import re\n",
    "from tqdm import tqdm\n",
    "from g2p import make_g2p\n",
    "\n",
    "# Initialize G2P converter for English ARPAbet\n",
    "transducer = make_g2p('eng', 'eng-arpabet')\n",
    "\n",
    "def get_phonemes(sentence):\n",
    "    \"\"\"Convert sentence to phonemes using G2P.\"\"\"\n",
    "    phonemes_list = [transducer(word).output_string for word in re.findall(r'\\S+', sentence)]\n",
    "    phonemes = \" \".join(phonemes_list)\n",
    "    return phonemes\n",
    "\n",
    "def process_json_files(input_folder):\n",
    "    \"\"\"Process all JSON files in the input folder and save the corresponding updated JSON files to the output folder.\"\"\"\n",
    "    # Dynamically create the output folder name by appending '_phoneme'\n",
    "    output_folder = f\"{input_folder.rstrip(os.sep)}_phoneme\"\n",
    "    \n",
    "    # Ensure the output folder exists\n",
    "    os.makedirs(output_folder, exist_ok=True)\n",
    "\n",
    "    # Iterate through all files in the input folder\n",
    "    for file_name in tqdm(os.listdir(input_folder), desc=\"Processing Files\"):\n",
    "        if file_name.endswith('.jsonl'):  # Only process .jsonl files\n",
    "            input_file_path = os.path.join(input_folder, file_name)\n",
    "            output_file_path = os.path.join(output_folder, file_name)\n",
    "\n",
    "            # Open the input JSON file\n",
    "            with open(input_file_path, 'r', encoding='utf-8') as file:\n",
    "                data = file.readlines()\n",
    "\n",
    "            # Initialize list to store processed data\n",
    "            updated_data = []\n",
    "\n",
    "            # Iterate through each JSON line, process and update with phoneme transcript\n",
    "            for line in tqdm(data, desc=f\"Processing {file_name}\"):\n",
    "                data_dict = json.loads(line.strip())  # Load the JSON object\n",
    "                target_sentence = data_dict.get('target', '')  # Get the target (transcription) sentence\n",
    "                if target_sentence:\n",
    "                    phoneme_transcript = get_phonemes(target_sentence)  # Get phoneme transcript\n",
    "                    data_dict['target'] = phoneme_transcript  # Add phoneme transcript to JSON object\n",
    "\n",
    "                updated_data.append(data_dict)  # Store the updated object\n",
    "\n",
    "            # Save the updated data back to the corresponding output JSON file\n",
    "            with open(output_file_path, 'w', encoding='utf-8') as output_file:\n",
    "                for updated_record in updated_data:\n",
    "                    json.dump(updated_record, output_file)\n",
    "                    output_file.write('\\n')\n",
    "\n",
    "# Define input folder\n",
    "input_folder = \"/work/van-speech-nlp/jindaznb/jslpnb/mllm_experiments/slam-llm/data/psst\"  # Update this to your input folder path\n",
    "\n",
    "# Process all JSON files\n",
    "process_json_files(input_folder)\n"
   ]
  },
  {
   "cell_type": "code",
   "execution_count": null,
   "metadata": {},
   "outputs": [],
   "source": []
  }
 ],
 "metadata": {
  "kernelspec": {
   "display_name": "Python 3",
   "language": "python",
   "name": "python3"
  },
  "language_info": {
   "codemirror_mode": {
    "name": "ipython",
    "version": 3
   },
   "file_extension": ".py",
   "mimetype": "text/x-python",
   "name": "python",
   "nbconvert_exporter": "python",
   "pygments_lexer": "ipython3",
   "version": "3.10.14"
  },
  "orig_nbformat": 4
 },
 "nbformat": 4,
 "nbformat_minor": 2
}
