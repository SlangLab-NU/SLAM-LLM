{
 "cells": [
  {
   "cell_type": "code",
   "execution_count": 1,
   "metadata": {},
   "outputs": [
    {
     "name": "stdout",
     "output_type": "stream",
     "text": [
      "Updated paths in /work/van-speech-nlp/PSST-experiment/psst-csv/train_utterances_excel.csv\n",
      "Updated paths in /work/van-speech-nlp/PSST-experiment/psst-csv/valid_utterances_excel.csv\n",
      "Updated paths in /work/van-speech-nlp/PSST-experiment/psst-csv/test_utterances_excel.csv\n"
     ]
    }
   ],
   "source": [
    "import re\n",
    "import pandas as pd\n",
    "\n",
    "# List of CSV files to process\n",
    "csv_files = [\n",
    "        '/work/van-speech-nlp/PSST-experiment/psst-csv/train_utterances_excel.csv',\n",
    "        '/work/van-speech-nlp/PSST-experiment/psst-csv/valid_utterances_excel.csv',\n",
    "        '/work/van-speech-nlp/PSST-experiment/psst-csv/test_utterances_excel.csv'\n",
    "]\n",
    "\n",
    "# Define the incorrect and correct directory segments\n",
    "incorrect_path_segment = r'/PSST-experiments/'  # The incorrect part in the file path\n",
    "correct_path_segment = '/PSST-experiment/'     # The corrected part for replacement\n",
    "\n",
    "# Process each CSV file\n",
    "for csv_file in csv_files:\n",
    "    # Load the CSV file\n",
    "    df = pd.read_csv(csv_file)\n",
    "\n",
    "    # Use regex to replace the incorrect path with the correct one\n",
    "    df['filename_new'] = df['filename_new'].apply(\n",
    "        lambda x: re.sub(incorrect_path_segment, correct_path_segment, x)\n",
    "    )\n",
    "\n",
    "    # Save the updated CSV file\n",
    "    df.to_csv(csv_file, index=False)\n",
    "    print(f\"Updated paths in {csv_file}\")"
   ]
  },
  {
   "cell_type": "code",
   "execution_count": null,
   "metadata": {},
   "outputs": [],
   "source": []
  }
 ],
 "metadata": {
  "kernelspec": {
   "display_name": "Python 3",
   "language": "python",
   "name": "python3"
  },
  "language_info": {
   "codemirror_mode": {
    "name": "ipython",
    "version": 3
   },
   "file_extension": ".py",
   "mimetype": "text/x-python",
   "name": "python",
   "nbconvert_exporter": "python",
   "pygments_lexer": "ipython3",
   "version": "3.10.14"
  },
  "orig_nbformat": 4
 },
 "nbformat": 4,
 "nbformat_minor": 2
}
