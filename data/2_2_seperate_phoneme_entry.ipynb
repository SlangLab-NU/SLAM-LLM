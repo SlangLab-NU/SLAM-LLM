{
 "cells": [
  {
   "cell_type": "code",
   "execution_count": 3,
   "metadata": {},
   "outputs": [
    {
     "name": "stderr",
     "output_type": "stream",
     "text": [
      "Processing ami_phoneme_test.jsonl: 100%|██████████| 7546/7546 [00:00<00:00, 120075.49it/s]\n",
      "Processing ami_phoneme_train.jsonl: 100%|██████████| 66698/66698 [00:00<00:00, 152910.05it/s]\n",
      "Processing ami_phoneme_validation.jsonl: 100%|██████████| 8351/8351 [00:00<00:00, 249626.79it/s]\n",
      "Processing Files: 100%|██████████| 3/3 [00:02<00:00,  1.20it/s]\n"
     ]
    }
   ],
   "source": [
    "import os\n",
    "import json\n",
    "import re\n",
    "from tqdm import tqdm\n",
    "\n",
    "def process_json_files(input_folder, output_folder):\n",
    "    \"\"\"Process all JSON files in the input folder and save the corresponding updated JSON files to the output folder.\"\"\"\n",
    "    # Ensure the output folder exists\n",
    "    os.makedirs(output_folder, exist_ok=True)\n",
    "\n",
    "    # Iterate through all files in the input folder\n",
    "    for file_name in tqdm(os.listdir(input_folder), desc=\"Processing Files\"):\n",
    "        if file_name.endswith('.jsonl'):  # Only process .jsonl files\n",
    "            # Use regex to remove everything before 'train', 'validation', or 'test'\n",
    "            new_file_name = re.sub(r'.*(train|validation|test)\\.jsonl', r'\\1.jsonl', file_name)\n",
    "            \n",
    "            input_file_path = os.path.join(input_folder, file_name)\n",
    "            output_file_path = os.path.join(output_folder, new_file_name)\n",
    "\n",
    "            # Open the input JSON file\n",
    "            with open(input_file_path, 'r', encoding='utf-8') as file:\n",
    "                data = file.readlines()\n",
    "\n",
    "            # Initialize list to store processed data\n",
    "            updated_data = []\n",
    "\n",
    "            # Iterate through each JSON line, process and update with phoneme transcript\n",
    "            for line in tqdm(data, desc=f\"Processing {file_name}\"):\n",
    "                data_dict = json.loads(line.strip())  # Load the JSON object\n",
    "                target_sentence = data_dict.get('target', '')  # Get the target (transcription) sentence\n",
    "                phoneme_transcript = data_dict.get('phoneme', '')  # Get phoneme transcript directly\n",
    "\n",
    "                # Create an entry for `target` with prompt \"Transcribe Speech to text.\"\n",
    "                target_entry = {\n",
    "                    \"key\": data_dict.get('key', ''),\n",
    "                    \"source\": data_dict.get('source', ''),\n",
    "                    \"prompt\": \"Transcribe Speech to text.\",\n",
    "                    \"target\": target_sentence,\n",
    "                }\n",
    "                updated_data.append(target_entry)  # Add the entry with target and prompt\n",
    "\n",
    "                # Create another entry with `phoneme` only and prompt \"Transcribe speech into phonemes.\"\n",
    "                if phoneme_transcript:\n",
    "                    phoneme_entry = {\n",
    "                        \"key\": data_dict.get('key', ''),\n",
    "                        \"source\": data_dict.get('source', ''),\n",
    "                        \"prompt\": \"Transcribe Speech to phonemes.\",\n",
    "                        \"target\": phoneme_transcript,\n",
    "                    }\n",
    "                    updated_data.append(phoneme_entry)  # Add the entry with phoneme and prompt\n",
    "\n",
    "            # Save the updated data back to the corresponding output JSON file\n",
    "            with open(output_file_path, 'w', encoding='utf-8') as output_file:\n",
    "                for updated_record in updated_data:\n",
    "                    json.dump(updated_record, output_file)\n",
    "                    output_file.write('\\n')\n",
    "\n",
    "# Define input and output folders\n",
    "input_folder = \"/work/van-speech-nlp/jindaznb/jslpnb/mllm_experiments/slam-llm/data/ami_phoneme/\"  # Update this to your input folder path\n",
    "output_folder = \"/work/van-speech-nlp/jindaznb/jslpnb/mllm_experiments/slam-llm/data/ami_phoneme_seperate\"  # Update this to your output folder path\n",
    "\n",
    "# Process all JSON files\n",
    "process_json_files(input_folder, output_folder)"
   ]
  },
  {
   "cell_type": "markdown",
   "metadata": {},
   "source": [
    "# covert with existing fields"
   ]
  },
  {
   "cell_type": "code",
   "execution_count": 1,
   "metadata": {},
   "outputs": [
    {
     "name": "stderr",
     "output_type": "stream",
     "text": [
      "Processing ami_phoneme_test.jsonl: 100%|██████████| 7546/7546 [00:00<00:00, 155781.95it/s]\n",
      "Processing ami_phoneme_train.jsonl: 100%|██████████| 66698/66698 [00:00<00:00, 139948.20it/s]\n",
      "Processing ami_phoneme_validation.jsonl: 100%|██████████| 8351/8351 [00:00<00:00, 247260.20it/s]\n",
      "Processing Files: 100%|██████████| 3/3 [00:02<00:00,  1.17it/s]\n"
     ]
    }
   ],
   "source": [
    "import os\n",
    "import json\n",
    "import re\n",
    "from tqdm import tqdm\n",
    "\n",
    "def process_json_files(input_folder, output_folder):\n",
    "    \"\"\"Process all JSON files in the input folder and save the corresponding updated JSON files to the output folder.\"\"\"\n",
    "    # Ensure the output folder exists\n",
    "    os.makedirs(output_folder, exist_ok=True)\n",
    "\n",
    "    # Iterate through all files in the input folder\n",
    "    for file_name in tqdm(os.listdir(input_folder), desc=\"Processing Files\"):\n",
    "        if file_name.endswith('.jsonl'):  # Only process .jsonl files\n",
    "            input_file_path = os.path.join(input_folder, file_name)\n",
    "            output_file_path = os.path.join(output_folder, file_name)\n",
    "\n",
    "            # Open the input JSON file\n",
    "            with open(input_file_path, 'r', encoding='utf-8') as file:\n",
    "                data = file.readlines()\n",
    "\n",
    "            # Initialize list to store processed data\n",
    "            updated_data = []\n",
    "\n",
    "            # Iterate through each JSON line, process and update with phoneme transcript\n",
    "            for line in tqdm(data, desc=f\"Processing {file_name}\"):\n",
    "                data_dict = json.loads(line.strip())  # Load the JSON object\n",
    "                target_sentence = data_dict.get('target', '')  # Get the target (transcription) sentence\n",
    "                phoneme_transcript = data_dict.get('phoneme', '')  # Get phoneme transcript directly\n",
    "\n",
    "                # Create an entry for `target` with prompt \"Transcribe Speech to text.\"\n",
    "                target_entry = {\n",
    "                    \"key\": data_dict.get('key', ''),\n",
    "                    \"source\": data_dict.get('source', ''),\n",
    "                    \"prompt\": \"Transcribe Speech to text.\",\n",
    "                    \"target\": target_sentence,\n",
    "                }\n",
    "                updated_data.append(target_entry)  # Add the entry with target and prompt\n",
    "\n",
    "                # Create another entry with `phoneme` only and prompt \"Transcribe speech into phonemes.\"\n",
    "                if phoneme_transcript:\n",
    "                    phoneme_entry = {\n",
    "                        \"key\": data_dict.get('key', ''),\n",
    "                        \"source\": data_dict.get('source', ''),\n",
    "                        \"prompt\": \"Transcribe Speech to phonemes.\",\n",
    "                        \"target\": phoneme_transcript,\n",
    "                    }\n",
    "                    updated_data.append(phoneme_entry)  # Add the entry with phoneme and prompt\n",
    "\n",
    "            # Save the updated data back to the corresponding output JSON file\n",
    "            with open(output_file_path, 'w', encoding='utf-8') as output_file:\n",
    "                for updated_record in updated_data:\n",
    "                    json.dump(updated_record, output_file)\n",
    "                    output_file.write('\\n')\n",
    "\n",
    "# Define input and output folders\n",
    "input_folder = \"/work/van-speech-nlp/jindaznb/jslpnb/mllm_experiments/slam-llm/data/ami_phoneme/\"  # Update this to your input folder path\n",
    "output_folder = \"/work/van-speech-nlp/jindaznb/jslpnb/mllm_experiments/slam-llm/data/ami_phoneme_seperate\"  # Update this to your output folder path\n",
    "\n",
    "# Process all JSON files\n",
    "process_json_files(input_folder, output_folder)"
   ]
  },
  {
   "cell_type": "code",
   "execution_count": 3,
   "metadata": {},
   "outputs": [
    {
     "name": "stdout",
     "output_type": "stream",
     "text": [
      "Renamed: librispeech-100_phoneme_test.jsonl -> librispeech-100_phoneme_seperate_test.jsonl\n",
      "Renamed: librispeech-100_phoneme_train.jsonl -> librispeech-100_phoneme_seperate_train.jsonl\n",
      "Renamed: librispeech-100_phoneme_val.jsonl -> librispeech-100_phoneme_seperate_val.jsonl\n"
     ]
    }
   ],
   "source": [
    "import os\n",
    "\n",
    "# Define the directory where the files are located\n",
    "directory = \"/work/van-speech-nlp/jindaznb/jslpnb/mllm_experiments/slam-llm/data/librispeech-100_phoneme_seperate\"\n",
    "\n",
    "# Get the folder name dynamically\n",
    "folder_name = os.path.basename(directory)  # Extracts 'librispeech-100_phoneme_seperate'\n",
    "\n",
    "# Find the part of the folder name before the \"_seperate\" to use it for comparison\n",
    "base_name = folder_name.split('_seperate')[0]\n",
    "\n",
    "# Iterate through all files in the directory\n",
    "for file_name in os.listdir(directory):\n",
    "    # Check if the file starts with the folder's base name and ends with '.jsonl'\n",
    "    if file_name.startswith(f'{base_name}_') and file_name.endswith('.jsonl'):\n",
    "        # Create the new file name by replacing the prefix with the folder name\n",
    "        new_file_name = file_name.replace(f'{base_name}_', f'{folder_name}_', 1)\n",
    "\n",
    "        # Construct full file paths\n",
    "        old_file_path = os.path.join(directory, file_name)\n",
    "        new_file_path = os.path.join(directory, new_file_name)\n",
    "\n",
    "        # Rename the file\n",
    "        os.rename(old_file_path, new_file_path)\n",
    "\n",
    "        # Print the renaming operation for verification\n",
    "        print(f\"Renamed: {file_name} -> {new_file_name}\")"
   ]
  },
  {
   "cell_type": "code",
   "execution_count": null,
   "metadata": {},
   "outputs": [],
   "source": []
  }
 ],
 "metadata": {
  "kernelspec": {
   "display_name": "Python 3",
   "language": "python",
   "name": "python3"
  },
  "language_info": {
   "codemirror_mode": {
    "name": "ipython",
    "version": 3
   },
   "file_extension": ".py",
   "mimetype": "text/x-python",
   "name": "python",
   "nbconvert_exporter": "python",
   "pygments_lexer": "ipython3",
   "version": "3.10.14"
  },
  "orig_nbformat": 4
 },
 "nbformat": 4,
 "nbformat_minor": 2
}
