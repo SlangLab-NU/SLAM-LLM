{
 "cells": [
  {
   "cell_type": "code",
   "execution_count": 1,
   "metadata": {},
   "outputs": [
    {
     "name": "stdout",
     "output_type": "stream",
     "text": [
      "Sampled 125 entries from ami_test.jsonl and saved to /work/van-speech-nlp/jindaznb/jslpnb/mllm_expriments/slam-llm/data/ami-1h/ami_test.jsonl.\n",
      "Sampled 1111 entries from ami_train.jsonl and saved to /work/van-speech-nlp/jindaznb/jslpnb/mllm_expriments/slam-llm/data/ami-1h/ami_train.jsonl.\n",
      "Sampled 139 entries from ami_validation.jsonl and saved to /work/van-speech-nlp/jindaznb/jslpnb/mllm_expriments/slam-llm/data/ami-1h/ami_validation.jsonl.\n"
     ]
    }
   ],
   "source": [
    "import os\n",
    "import json\n",
    "import random\n",
    "\n",
    "def sample_jsonl_files(input_folder, output_folder, sample_ratio=0.1, seed=42):\n",
    "    \"\"\"\n",
    "    Randomly sample entries from JSONL files in the input folder and save to new JSONL files in the output folder.\n",
    "\n",
    "    :param input_folder: Folder containing the input JSONL files\n",
    "    :param output_folder: Folder to save the output sampled JSONL files\n",
    "    :param sample_ratio: Sampling ratio, default is 0.1 (10%)\n",
    "    :param seed: Random seed for reproducibility, default is 42\n",
    "    \"\"\"\n",
    "    # Ensure the output folder exists\n",
    "    if not os.path.exists(output_folder):\n",
    "        os.makedirs(output_folder)\n",
    "    \n",
    "    # Set random seed for reproducibility\n",
    "    random.seed(seed)\n",
    "\n",
    "    # List of JSONL files to process\n",
    "    jsonl_files = ['ami_test.jsonl', 'ami_train.jsonl', 'ami_validation.jsonl']\n",
    "\n",
    "    for file_name in jsonl_files:\n",
    "        input_file = os.path.join(input_folder, file_name)\n",
    "        output_file = os.path.join(output_folder, file_name)\n",
    "\n",
    "        # Read all lines from the input JSONL file\n",
    "        with open(input_file, 'r') as f:\n",
    "            lines = f.readlines()\n",
    "\n",
    "        # Determine the number of lines to sample\n",
    "        num_lines = len(lines)\n",
    "        sample_size = int(num_lines * sample_ratio)\n",
    "\n",
    "        # Randomly sample indices\n",
    "        sample_indices = random.sample(range(num_lines), sample_size)\n",
    "\n",
    "        # Extract lines based on sampled indices\n",
    "        sampled_lines = [lines[i] for i in sample_indices]\n",
    "\n",
    "        # Write the sampled lines to the new JSONL file\n",
    "        with open(output_file, 'w') as f:\n",
    "            f.writelines(sampled_lines)\n",
    "\n",
    "        print(f\"Sampled {sample_size} entries from {file_name} and saved to {output_file}.\")\n",
    "\n",
    "\n",
    "input_folder_path = '/work/van-speech-nlp/jindaznb/jslpnb/mllm_expriments/slam-llm/data/ami'\n",
    "output_folder_path = '/work/van-speech-nlp/jindaznb/jslpnb/mllm_expriments/slam-llm/data/ami-1h'\n",
    "\n",
    "sample_jsonl_files(\n",
    "    input_folder=input_folder_path,\n",
    "    output_folder=output_folder_path,\n",
    "    sample_ratio=1/60,\n",
    "    seed=42\n",
    ")"
   ]
  },
  {
   "cell_type": "code",
   "execution_count": null,
   "metadata": {},
   "outputs": [],
   "source": []
  }
 ],
 "metadata": {
  "kernelspec": {
   "display_name": "Python 3",
   "language": "python",
   "name": "python3"
  },
  "language_info": {
   "codemirror_mode": {
    "name": "ipython",
    "version": 3
   },
   "file_extension": ".py",
   "mimetype": "text/x-python",
   "name": "python",
   "nbconvert_exporter": "python",
   "pygments_lexer": "ipython3",
   "version": "3.6.8"
  }
 },
 "nbformat": 4,
 "nbformat_minor": 2
}
