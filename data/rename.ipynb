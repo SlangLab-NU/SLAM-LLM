{
 "cells": [
  {
   "cell_type": "code",
   "execution_count": 2,
   "metadata": {},
   "outputs": [],
   "source": [
    "import os\n",
    "import re\n",
    "\n",
    "def rename_files(folder_path):\n",
    "    # Iterate over all files in the folder\n",
    "    for filename in os.listdir(folder_path):\n",
    "        # Match the last word before the .jsonl extension\n",
    "        new_filename = re.sub(r'.*_(\\w+\\.jsonl)$', r'\\1', filename)\n",
    "        \n",
    "        # Construct full file paths\n",
    "        old_file_path = os.path.join(folder_path, filename)\n",
    "        new_file_path = os.path.join(folder_path, new_filename)\n",
    "        \n",
    "        # Rename the file if the new filename is different\n",
    "        if new_filename != filename:\n",
    "            os.rename(old_file_path, new_file_path)\n",
    "            print(f'Renamed: {filename} -> {new_filename}')\n",
    "\n",
    "# Usage\n",
    "folder_path = '/work/van-speech-nlp/jindaznb/jslpnb/mllm_experiments/slam-llm/data/librispeech-100_phoneme_seperate'  # Replace with your actual folder path\n",
    "rename_files(folder_path)"
   ]
  },
  {
   "cell_type": "code",
   "execution_count": null,
   "metadata": {},
   "outputs": [],
   "source": []
  }
 ],
 "metadata": {
  "kernelspec": {
   "display_name": "Python 3",
   "language": "python",
   "name": "python3"
  },
  "language_info": {
   "codemirror_mode": {
    "name": "ipython",
    "version": 3
   },
   "file_extension": ".py",
   "mimetype": "text/x-python",
   "name": "python",
   "nbconvert_exporter": "python",
   "pygments_lexer": "ipython3",
   "version": "3.10.14"
  },
  "orig_nbformat": 4
 },
 "nbformat": 4,
 "nbformat_minor": 2
}
