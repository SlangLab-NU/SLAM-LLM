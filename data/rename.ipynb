{
 "cells": [
  {
   "cell_type": "code",
   "execution_count": 2,
   "metadata": {},
   "outputs": [],
   "source": [
    "import os\n",
    "import re\n",
    "\n",
    "def rename_files(folder_path):\n",
    "    # Iterate over all files in the folder\n",
    "    for filename in os.listdir(folder_path):\n",
    "        # Match the last word before the .jsonl extension\n",
    "        new_filename = re.sub(r'.*_(\\w+\\.jsonl)$', r'\\1', filename)\n",
    "        \n",
    "        # Construct full file paths\n",
    "        old_file_path = os.path.join(folder_path, filename)\n",
    "        new_file_path = os.path.join(folder_path, new_filename)\n",
    "        \n",
    "        # Rename the file if the new filename is different\n",
    "        if new_filename != filename:\n",
    "            os.rename(old_file_path, new_file_path)\n",
    "            print(f'Renamed: {filename} -> {new_filename}')\n",
    "\n",
    "# Usage\n",
    "folder_path = '/work/van-speech-nlp/jindaznb/jslpnb/mllm_experiments/slam-llm/data/librispeech-100_phoneme_seperate'  # Replace with your actual folder path\n",
    "rename_files(folder_path)"
   ]
  },
  {
   "cell_type": "code",
   "execution_count": 1,
   "metadata": {},
   "outputs": [
    {
     "name": "stdout",
     "output_type": "stream",
     "text": [
      "Renamed: 0_0_convert_dataset_path.ipynb -> 00_convert_dataset_path.ipynb\n",
      "Renamed: 0_0_convert_dataset_path_torgo.ipynb -> 00_convert_dataset_path_torgo.ipynb\n",
      "Renamed: 0_1_prepare_jsonl.py -> 01_prepare_jsonl.py\n",
      "Renamed: 0_1_prepare_jsonl_torgo.py -> 01_prepare_jsonl_torgo.py\n",
      "Renamed: 0_1_prepare_torgo_jsonl.ipynb -> 01_prepare_torgo_jsonl.ipynb\n",
      "Renamed: 1_0_prepare_librispeech_jsonl.ipynb -> 10_prepare_librispeech_jsonl.ipynb\n",
      "Renamed: 1_0_prepare_multitask_librispeech_jsonl_phoneme.ipynb -> 10_prepare_multitask_librispeech_jsonl_phoneme.ipynb\n",
      "Renamed: 1_1_prepare_ami_jsonl.ipynb -> 11_prepare_ami_jsonl.ipynb\n",
      "Renamed: 1_2_subset.ipynb -> 12_subset.ipynb\n",
      "Renamed: 2_0_process_librispeech.ipynb -> 20_process_librispeech.ipynb\n",
      "Renamed: 2_1_convert_phoneme.ipynb -> 21_convert_phoneme.ipynb\n",
      "Renamed: 2_2_seperate_phoneme_entry.ipynb -> 22_seperate_phoneme_entry.ipynb\n",
      "Renamed: 2_3_nbest.ipynb -> 23_nbest.ipynb\n",
      "Renamed: 2_4_phoneme_only.ipynb -> 24_phoneme_only.ipynb\n"
     ]
    }
   ],
   "source": [
    "import os\n",
    "import re\n",
    "\n",
    "# Define the folder containing the files\n",
    "folder_path = \"/work/van-speech-nlp/jindaznb/jslpnb/mllm_experiments/slam-llm/data\"  # Replace with the path to your folder\n",
    "\n",
    "# Define regex pattern to match any 'digit_digit' in filenames\n",
    "pattern = re.compile(r'(\\d)_(\\d)')\n",
    "\n",
    "# Iterate over all files in the directory\n",
    "for filename in os.listdir(folder_path):\n",
    "    # Check if the pattern matches the filename\n",
    "    if pattern.search(filename):\n",
    "        # Replace 'digit_digit' with 'digitdigit'\n",
    "        new_filename = pattern.sub(r\"\\1\\2\", filename)\n",
    "        \n",
    "        # Define full file paths for renaming\n",
    "        old_path = os.path.join(folder_path, filename)\n",
    "        new_path = os.path.join(folder_path, new_filename)\n",
    "        \n",
    "        # Rename the file\n",
    "        os.rename(old_path, new_path)\n",
    "        print(f\"Renamed: {filename} -> {new_filename}\")"
   ]
  },
  {
   "cell_type": "code",
   "execution_count": null,
   "metadata": {},
   "outputs": [],
   "source": []
  }
 ],
 "metadata": {
  "kernelspec": {
   "display_name": "Python 3",
   "language": "python",
   "name": "python3"
  },
  "language_info": {
   "codemirror_mode": {
    "name": "ipython",
    "version": 3
   },
   "file_extension": ".py",
   "mimetype": "text/x-python",
   "name": "python",
   "nbconvert_exporter": "python",
   "pygments_lexer": "ipython3",
   "version": "3.10.14"
  },
  "orig_nbformat": 4
 },
 "nbformat": 4,
 "nbformat_minor": 2
}
