{
 "cells": [
  {
   "cell_type": "code",
   "execution_count": 1,
   "metadata": {},
   "outputs": [
    {
     "name": "stdout",
     "output_type": "stream",
     "text": [
      "Updated test.jsonl with prompt: Transcribe speech to Phonemes. Output the transcription directly without redundant content. Ensure that the output is not duplicated.\n",
      "Updated train.jsonl with prompt: Transcribe speech to Phonemes. Output the transcription directly without redundant content. Ensure that the output is not duplicated.\n",
      "Updated validation.jsonl with prompt: Transcribe speech to Phonemes. Output the transcription directly without redundant content. Ensure that the output is not duplicated.\n"
     ]
    }
   ],
   "source": [
    "import json\n",
    "import os\n",
    "\n",
    "# Function to update jsonl files\n",
    "def add_prompt_to_jsonl_files(directory, prompt):\n",
    "    # Iterate through all files in the given directory\n",
    "    for filename in os.listdir(directory):\n",
    "        if filename.endswith(\".jsonl\"):\n",
    "            file_path = os.path.join(directory, filename)\n",
    "            updated_lines = []\n",
    "\n",
    "            # Open each jsonl file and add prompt field\n",
    "            with open(file_path, 'r') as file:\n",
    "                for line in file:\n",
    "                    json_obj = json.loads(line)\n",
    "                    json_obj[\"prompt\"] = prompt  # Add prompt field\n",
    "                    updated_lines.append(json_obj)\n",
    "\n",
    "            # Write back the updated data\n",
    "            with open(file_path, 'w') as file:\n",
    "                for json_obj in updated_lines:\n",
    "                    file.write(json.dumps(json_obj) + '\\n')\n",
    "            print(f\"Updated {filename} with prompt: {prompt}\")\n",
    "\n",
    "# Prompt input and directory path\n",
    "directory_path = \"/work/van-speech-nlp/jindaznb/jslpnb/mllm_experiments/slam-llm/data/psst_phoneme\"\n",
    "prompt_text = \"Transcribe speech to Phonemes. Output the transcription directly without redundant content. Ensure that the output is not duplicated.\"\n",
    "\n",
    "add_prompt_to_jsonl_files(directory_path, prompt_text)"
   ]
  },
  {
   "cell_type": "code",
   "execution_count": 2,
   "metadata": {},
   "outputs": [
    {
     "name": "stdout",
     "output_type": "stream",
     "text": [
      "Updated test.jsonl with prompt: Transcribe speech to text. Output the transcription directly without redundant content. Ensure that the output is not duplicated.\n",
      "Updated train.jsonl with prompt: Transcribe speech to text. Output the transcription directly without redundant content. Ensure that the output is not duplicated.\n",
      "Updated validation.jsonl with prompt: Transcribe speech to text. Output the transcription directly without redundant content. Ensure that the output is not duplicated.\n"
     ]
    }
   ],
   "source": [
    "import json\n",
    "import os\n",
    "\n",
    "# Function to update jsonl files\n",
    "def add_prompt_to_jsonl_files(directory, prompt):\n",
    "    # Iterate through all files in the given directory\n",
    "    for filename in os.listdir(directory):\n",
    "        if filename.endswith(\".jsonl\"):\n",
    "            file_path = os.path.join(directory, filename)\n",
    "            updated_lines = []\n",
    "\n",
    "            # Open each jsonl file and add prompt field\n",
    "            with open(file_path, 'r') as file:\n",
    "                for line in file:\n",
    "                    json_obj = json.loads(line)\n",
    "                    json_obj[\"prompt\"] = prompt  # Add prompt field\n",
    "                    updated_lines.append(json_obj)\n",
    "\n",
    "            # Write back the updated data\n",
    "            with open(file_path, 'w') as file:\n",
    "                for json_obj in updated_lines:\n",
    "                    file.write(json.dumps(json_obj) + '\\n')\n",
    "            print(f\"Updated {filename} with prompt: {prompt}\")\n",
    "\n",
    "# Prompt input and directory path\n",
    "directory_path = \"/work/van-speech-nlp/jindaznb/jslpnb/mllm_experiments/slam-llm/data/ami_phoneme_only\"\n",
    "prompt_text = \"Transcribe speech to Phonemes. Output the transcription directly without redundant content. Ensure that the output is not duplicated.\"\n",
    "\n",
    "add_prompt_to_jsonl_files(directory_path, prompt_text)"
   ]
  },
  {
   "cell_type": "code",
   "execution_count": 4,
   "metadata": {},
   "outputs": [
    {
     "name": "stdout",
     "output_type": "stream",
     "text": [
      "Updated test.jsonl with additional prompt text.\n",
      "Updated train.jsonl with additional prompt text.\n",
      "Updated validation.jsonl with additional prompt text.\n"
     ]
    }
   ],
   "source": [
    "import json\n",
    "import os\n",
    "\n",
    "# Function to update jsonl files\n",
    "def add_prompt_to_jsonl_files(directory, additional_text):\n",
    "    # Iterate through all files in the given directory\n",
    "    for filename in os.listdir(directory):\n",
    "        if filename.endswith(\".jsonl\"):\n",
    "            file_path = os.path.join(directory, filename)\n",
    "            updated_lines = []\n",
    "\n",
    "            # Open each jsonl file and add to the prompt field\n",
    "            with open(file_path, 'r') as file:\n",
    "                for line in file:\n",
    "                    json_obj = json.loads(line)\n",
    "                    # Append additional text to the existing prompt\n",
    "                    if \"prompt\" in json_obj:\n",
    "                        json_obj[\"prompt\"] += \" \" + additional_text\n",
    "                    else:\n",
    "                        json_obj[\"prompt\"] = additional_text  # Set prompt if not present\n",
    "                    updated_lines.append(json_obj)\n",
    "\n",
    "            # Write back the updated data\n",
    "            with open(file_path, 'w') as file:\n",
    "                for json_obj in updated_lines:\n",
    "                    file.write(json.dumps(json_obj) + '\\n')\n",
    "            print(f\"Updated {filename} with additional prompt text.\")\n",
    "\n",
    "# Directory path and additional text to append\n",
    "directory_path = \"/work/van-speech-nlp/jindaznb/jslpnb/mllm_experiments/slam-llm/data/ami_phoneme_only\"\n",
    "additional_prompt_text = \"Output the transcription directly without redundant content. Ensure that the output is not duplicated.\"\n",
    "\n",
    "add_prompt_to_jsonl_files(directory_path, additional_prompt_text)"
   ]
  },
  {
   "cell_type": "code",
   "execution_count": null,
   "metadata": {},
   "outputs": [],
   "source": []
  }
 ],
 "metadata": {
  "kernelspec": {
   "display_name": "Python 3",
   "language": "python",
   "name": "python3"
  },
  "language_info": {
   "codemirror_mode": {
    "name": "ipython",
    "version": 3
   },
   "file_extension": ".py",
   "mimetype": "text/x-python",
   "name": "python",
   "nbconvert_exporter": "python",
   "pygments_lexer": "ipython3",
   "version": "3.10.14"
  },
  "orig_nbformat": 4
 },
 "nbformat": 4,
 "nbformat_minor": 2
}
