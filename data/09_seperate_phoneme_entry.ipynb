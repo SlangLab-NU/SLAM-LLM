{
 "cells": [
  {
   "cell_type": "markdown",
   "metadata": {},
   "source": [
    "# adjust prompt"
   ]
  },
  {
   "cell_type": "markdown",
   "metadata": {},
   "source": [
    "# covert with existing fields"
   ]
  },
  {
   "cell_type": "code",
   "execution_count": 5,
   "metadata": {},
   "outputs": [
    {
     "name": "stderr",
     "output_type": "stream",
     "text": [
      "Processing Files: 100%|██████████| 3/3 [00:05<00:00,  1.92s/it]\n"
     ]
    }
   ],
   "source": [
    "import os\n",
    "import json\n",
    "from tqdm import tqdm\n",
    "\n",
    "def process_json_files_entrywise(input_folder1, input_folder2, output_folder):\n",
    "    \"\"\"\n",
    "    Process two JSONL files with the same split, combine them entry-wise,\n",
    "    and save the interleaved entries.\n",
    "\n",
    "    Args:\n",
    "        input_folder1 (str): Path to the first input folder.\n",
    "        input_folder2 (str): Path to the second input folder.\n",
    "        output_folder (str): Path to the output folder.\n",
    "    \"\"\"\n",
    "    # Ensure the output folder exists\n",
    "    os.makedirs(output_folder, exist_ok=True)\n",
    "\n",
    "    # Iterate through all files in the first input folder\n",
    "    for file_name in tqdm(os.listdir(input_folder1), desc=\"Processing Files\"):\n",
    "        if file_name.endswith('.jsonl'):  # Only process .jsonl files\n",
    "            input_file_path1 = os.path.join(input_folder1, file_name)\n",
    "            input_file_path2 = os.path.join(input_folder2, file_name)\n",
    "            output_file_path = os.path.join(output_folder, file_name)\n",
    "\n",
    "            # Open the input JSON files\n",
    "            with open(input_file_path1, 'r', encoding='utf-8') as file1, open(input_file_path2, 'r', encoding='utf-8') as file2:\n",
    "                data1 = file1.readlines()\n",
    "                data2 = file2.readlines()\n",
    "\n",
    "            # Ensure both files have the same number of lines\n",
    "            if len(data1) != len(data2):\n",
    "                raise ValueError(f\"Files {file_name} in both folders have different numbers of lines.\")\n",
    "\n",
    "            # Initialize list to store processed data\n",
    "            interleaved_data = []\n",
    "\n",
    "            # Interleave lines from both files\n",
    "            for line1, line2 in zip(data1, data2):\n",
    "                data_dict1 = json.loads(line1.strip())\n",
    "                data_dict2 = json.loads(line2.strip())\n",
    "                \n",
    "                # Append each entry from file1 and file2 in sequence\n",
    "                interleaved_data.append(data_dict1)\n",
    "                interleaved_data.append(data_dict2)\n",
    "\n",
    "            # Save the interleaved data to the output file\n",
    "            with open(output_file_path, 'w', encoding='utf-8') as output_file:\n",
    "                for record in interleaved_data:\n",
    "                    json.dump(record, output_file)\n",
    "                    output_file.write('\\n')\n",
    "\n",
    "# Define the folder name once, and then use it for both input and output paths\n",
    "folder_name = \"aphasia\"\n",
    "\n",
    "base_path = \"/work/van-speech-nlp/jindaznb/jslpnb/mllm_experiments/slam-llm/data\"\n",
    "\n",
    "input_folder1 = os.path.join(base_path, folder_name)\n",
    "input_folder2 = os.path.join(base_path, f\"{folder_name}_phoneme\")\n",
    "output_folder = os.path.join(base_path, f\"{folder_name}_phoneme_seperate\")\n",
    "\n",
    "# Process the files and interleave the data\n",
    "process_json_files_entrywise(input_folder1, input_folder2, output_folder)"
   ]
  },
  {
   "cell_type": "code",
   "execution_count": null,
   "metadata": {},
   "outputs": [],
   "source": []
  }
 ],
 "metadata": {
  "kernelspec": {
   "display_name": "Python 3",
   "language": "python",
   "name": "python3"
  },
  "language_info": {
   "codemirror_mode": {
    "name": "ipython",
    "version": 3
   },
   "file_extension": ".py",
   "mimetype": "text/x-python",
   "name": "python",
   "nbconvert_exporter": "python",
   "pygments_lexer": "ipython3",
   "version": "3.10.14"
  },
  "orig_nbformat": 4
 },
 "nbformat": 4,
 "nbformat_minor": 2
}
