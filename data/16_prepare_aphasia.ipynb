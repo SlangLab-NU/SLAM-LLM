{
 "cells": [
  {
   "cell_type": "code",
   "execution_count": 2,
   "metadata": {},
   "outputs": [
    {
     "name": "stderr",
     "output_type": "stream",
     "text": [
      "Processing rows: 100%|██████████| 120747/120747 [01:30<00:00, 1330.88it/s]\n"
     ]
    },
    {
     "name": "stdout",
     "output_type": "stream",
     "text": [
      "Train set: 95353 entries\n",
      "Validation set: 13162 entries\n",
      "Test set: 12232 entries\n",
      "JSONL files created for train, validation, and test sets.\n"
     ]
    }
   ],
   "source": [
    "import pandas as pd\n",
    "import os\n",
    "import json\n",
    "from tqdm import tqdm\n",
    "\n",
    "# Define paths\n",
    "audio_root = \"/work/van-speech-nlp/jindaznb/jslpnb/mllm_experiments/aphasia/data_processed/audios\"\n",
    "csv_path = \"/work/van-speech-nlp/jindaznb/jslpnb/mllm_experiments/aphasia/data_processed/dataset_splitted.csv\"\n",
    "\n",
    "# Read the CSV file\n",
    "df = pd.read_csv(csv_path)\n",
    "\n",
    "# Initialize dictionaries to store data splits\n",
    "data_splits = {\"train\": [], \"validation\": [], \"test\": []}\n",
    "\n",
    "# Process each row in the dataset with tqdm for progress tracking\n",
    "for _, row in tqdm(df.iterrows(), total=len(df), desc=\"Processing rows\"):\n",
    "    split = row['split']\n",
    "    file_name = row['file_cut']\n",
    "    transcription = row['transcriptions']\n",
    "    folder_name = row['folder_name']\n",
    "    audio_path = os.path.join(audio_root, folder_name, file_name)\n",
    "\n",
    "    if not os.path.exists(audio_path):\n",
    "        print(f\"Audio file {audio_path} not found\")\n",
    "        continue\n",
    "\n",
    "    # Create the JSON object\n",
    "    json_object = {\n",
    "        \"key\": f\"{file_name}_ASR\",\n",
    "        \"source\": audio_path,\n",
    "        \"target\": transcription,\n",
    "        \"prompt\": \"Transcribe Speech to text. Output the transcription directly without redundant content. Ensure that the output is not duplicated.\"\n",
    "    }\n",
    "\n",
    "    # Append to the appropriate split\n",
    "    if split in data_splits:\n",
    "        data_splits[split].append(json_object)\n",
    "\n",
    "# Write each split to its own JSONL file and print the length of each split\n",
    "for split, data in data_splits.items():\n",
    "    jsonl_path = f\"{split}.jsonl\"\n",
    "    with open(jsonl_path, 'w') as f:\n",
    "        for entry in data:\n",
    "            f.write(json.dumps(entry) + '\\n')\n",
    "    print(f\"{split.capitalize()} set: {len(data)} entries\")\n",
    "\n",
    "print(\"JSONL files created for train, validation, and test sets.\")\n"
   ]
  }
 ],
 "metadata": {
  "kernelspec": {
   "display_name": "Python 3",
   "language": "python",
   "name": "python3"
  },
  "language_info": {
   "codemirror_mode": {
    "name": "ipython",
    "version": 3
   },
   "file_extension": ".py",
   "mimetype": "text/x-python",
   "name": "python",
   "nbconvert_exporter": "python",
   "pygments_lexer": "ipython3",
   "version": "3.10.14"
  },
  "orig_nbformat": 4
 },
 "nbformat": 4,
 "nbformat_minor": 2
}
