{
 "cells": [
  {
   "cell_type": "code",
   "execution_count": 3,
   "metadata": {},
   "outputs": [
    {
     "name": "stdout",
     "output_type": "stream",
     "text": [
      "The largest transcription word count is: 103\n",
      "The longest transcription is: T R AY IH N T AH S S DH AH M AE N T R AY IH N AH K IH D <sil> G R AE B IH M G R AE B DH AE T K IH D <spn> G IH T DH AE T AE N D DH EH N R AH N AH W EY <sil> AY G EH S S AH M B AH D IY S AH M B AH D IY P IH K T DH AE T T AH G OW DH AE T D OW N N OW DH AE T W AH N\n"
     ]
    }
   ],
   "source": [
    "# Function to read the dataset and find the largest transcription length in terms of words and its transcription\n",
    "def find_largest_transcription_length(file_path):\n",
    "    largest_word_count = 0  # Initialize the variable to track the largest word count\n",
    "    longest_transcription = \"\"  # Variable to store the longest transcription\n",
    "    \n",
    "    # Open the file and process each line\n",
    "    with open(file_path, 'r') as file:\n",
    "        for line in file:\n",
    "            # Split the line into the file name and the transcription\n",
    "            parts = line.strip().split('\\t')  # Assuming data is tab-separated\n",
    "            \n",
    "            # Check if the line has both file name and transcription\n",
    "            if len(parts) == 2:\n",
    "                transcription = parts[1]  # Get the transcription part\n",
    "                words = transcription.split()  # Split the transcription into words\n",
    "                word_count = len(words)  # Get the number of words\n",
    "                \n",
    "                # Update largest_word_count and longest_transcription if the current transcription has more words\n",
    "                if word_count > largest_word_count:\n",
    "                    largest_word_count = word_count\n",
    "                    longest_transcription = transcription  # Store the transcription with the largest word count\n",
    "    \n",
    "    return largest_word_count, longest_transcription\n",
    "\n",
    "# Define the file path\n",
    "file_path = '/work/van-speech-nlp/jindaznb/jslpnb/mllm_experiments/slam-llm/out/psst_phoneme_whisper_llama32_1b_linear_peft/decode_test_beam4_20241113_102316_gt'  # Replace with your actual file path\n",
    "\n",
    "# Get the largest transcription length (in terms of words) and the corresponding transcription\n",
    "largest_word_count, longest_transcription = find_largest_transcription_length(file_path)\n",
    "\n",
    "# Output the result\n",
    "print(f\"The largest transcription word count is: {largest_word_count}\")\n",
    "print(f\"The longest transcription is: {longest_transcription}\")"
   ]
  },
  {
   "cell_type": "code",
   "execution_count": null,
   "metadata": {},
   "outputs": [],
   "source": []
  }
 ],
 "metadata": {
  "kernelspec": {
   "display_name": "Python 3",
   "language": "python",
   "name": "python3"
  },
  "language_info": {
   "codemirror_mode": {
    "name": "ipython",
    "version": 3
   },
   "file_extension": ".py",
   "mimetype": "text/x-python",
   "name": "python",
   "nbconvert_exporter": "python",
   "pygments_lexer": "ipython3",
   "version": "3.10.14"
  },
  "orig_nbformat": 4
 },
 "nbformat": 4,
 "nbformat_minor": 2
}
