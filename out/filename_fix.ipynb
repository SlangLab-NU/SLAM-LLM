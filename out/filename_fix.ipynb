{
 "cells": [
  {
   "cell_type": "code",
   "execution_count": 2,
   "metadata": {},
   "outputs": [
    {
     "name": "stdout",
     "output_type": "stream",
     "text": [
      "Renamed: asr_epoch_0_step_10539 -> asr_epoch_1_step_10539\n",
      "Renamed: asr_epoch_0_step_11539 -> asr_epoch_1_step_11539\n",
      "Renamed: asr_epoch_0_step_12539 -> asr_epoch_1_step_12539\n",
      "Renamed: asr_epoch_0_step_1539 -> asr_epoch_1_step_1539\n",
      "Renamed: asr_epoch_0_step_2539 -> asr_epoch_1_step_2539\n",
      "Renamed: asr_epoch_0_step_3539 -> asr_epoch_1_step_3539\n",
      "Renamed: asr_epoch_0_step_4539 -> asr_epoch_1_step_4539\n",
      "Renamed: asr_epoch_0_step_539 -> asr_epoch_1_step_539\n",
      "Renamed: asr_epoch_0_step_6539 -> asr_epoch_1_step_6539\n",
      "Renamed: asr_epoch_0_step_7539 -> asr_epoch_1_step_7539\n",
      "Renamed: asr_epoch_0_step_8539 -> asr_epoch_1_step_8539\n"
     ]
    }
   ],
   "source": [
    "import os\n",
    "import re\n",
    "\n",
    "# Path to the directory where all your folders are located\n",
    "directory_path = '/work/van-speech-nlp/jindaznb/jslpnb/mllm_expriments/slam-llm/out/train/librispeech-100_phoneme_wavlm_TinyLlama_dual_phoneme_freeze_multitask'\n",
    "\n",
    "# Regular expression to identify folder names with \"epoch_\" and a number\n",
    "pattern = re.compile(r'epoch_(\\d+)_')\n",
    "\n",
    "# List all files and directories in the directory\n",
    "for folder_name in os.listdir(directory_path):\n",
    "    # Match only directories containing \"epoch_\"\n",
    "    match = pattern.search(folder_name)\n",
    "    if match:\n",
    "        epoch_num = int(match.group(1))  # Extract the epoch number\n",
    "        new_epoch_num = epoch_num + 1    # Increment the epoch number by 1\n",
    "        # Replace the old epoch number with the new one\n",
    "        new_folder_name = pattern.sub(f'epoch_{new_epoch_num}_', folder_name)\n",
    "        # Get full paths for renaming\n",
    "        old_path = os.path.join(directory_path, folder_name)\n",
    "        new_path = os.path.join(directory_path, new_folder_name)\n",
    "        # Rename the folder\n",
    "        os.rename(old_path, new_path)\n",
    "        print(f'Renamed: {folder_name} -> {new_folder_name}')"
   ]
  },
  {
   "cell_type": "code",
   "execution_count": 1,
   "metadata": {},
   "outputs": [
    {
     "name": "stdout",
     "output_type": "stream",
     "text": [
      "Renamed: asr_epoch_1_step_12000_loss0.48909133672714233 -> asr_epoch_1_step_12000_loss_0.48909133672714233\n",
      "Renamed: asr_epoch_1_step_13000_loss0.5332103967666626 -> asr_epoch_1_step_13000_loss_0.5332103967666626\n",
      "Renamed: asr_epoch_1_step_14000_loss0.5044906139373779 -> asr_epoch_1_step_14000_loss_0.5044906139373779\n",
      "Renamed: asr_epoch_1_step_15000_loss0.4933866262435913 -> asr_epoch_1_step_15000_loss_0.4933866262435913\n",
      "Renamed: asr_epoch_1_step_16000_loss0.4822482168674469 -> asr_epoch_1_step_16000_loss_0.4822482168674469\n",
      "Renamed: asr_epoch_1_step_17000_loss0.492993026971817 -> asr_epoch_1_step_17000_loss_0.492993026971817\n"
     ]
    }
   ],
   "source": [
    "import os\n",
    "import re\n",
    "\n",
    "# Directory containing the files\n",
    "directory = \"/work/van-speech-nlp/jindaznb/jslpnb/mllm_experiments/slam-llm/out/ami_whisper_TinyLlama_linear_peft\"\n",
    "\n",
    "# Regular expression to match and fix the filenames\n",
    "pattern = re.compile(r\"(loss)(\\d\\.\\d+)\")\n",
    "\n",
    "# Iterate over files in the directory\n",
    "for filename in os.listdir(directory):\n",
    "    # Search for the pattern\n",
    "    match = pattern.search(filename)\n",
    "    if match:\n",
    "        # Construct the new filename by adding an underscore if needed\n",
    "        new_filename = pattern.sub(r\"loss_\\2\", filename)\n",
    "        if new_filename != filename:\n",
    "            # Rename the file\n",
    "            os.rename(os.path.join(directory, filename), os.path.join(directory, new_filename))\n",
    "            print(f\"Renamed: {filename} -> {new_filename}\")\n"
   ]
  },
  {
   "cell_type": "code",
   "execution_count": null,
   "metadata": {},
   "outputs": [],
   "source": []
  }
 ],
 "metadata": {
  "kernelspec": {
   "display_name": "Python 3",
   "language": "python",
   "name": "python3"
  },
  "language_info": {
   "codemirror_mode": {
    "name": "ipython",
    "version": 3
   },
   "file_extension": ".py",
   "mimetype": "text/x-python",
   "name": "python",
   "nbconvert_exporter": "python",
   "pygments_lexer": "ipython3",
   "version": "3.10.14"
  },
  "orig_nbformat": 4
 },
 "nbformat": 4,
 "nbformat_minor": 2
}
