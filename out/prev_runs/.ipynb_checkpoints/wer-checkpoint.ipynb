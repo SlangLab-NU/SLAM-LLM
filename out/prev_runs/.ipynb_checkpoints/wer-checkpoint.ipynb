{
 "cells": [
  {
   "cell_type": "code",
   "execution_count": 1,
   "metadata": {},
   "outputs": [],
   "source": [
    "folder = \"/work/van-speech-nlp/jindaznb/jslpnb/mllm_expriments/slam-llm/out/librispeech\""
   ]
  },
  {
   "cell_type": "code",
   "execution_count": 2,
   "metadata": {},
   "outputs": [
    {
     "name": "stdout",
     "output_type": "stream",
     "text": [
      "Number of GT lines: 2620\n",
      "Number of PRED lines: 2620\n",
      "Word Error Rate (WER): 1.9001065124771759\n"
     ]
    }
   ],
   "source": [
    "from jiwer import wer\n",
    "\n",
    "# Function to read and process the file\n",
    "def read_and_process_file(file_path):\n",
    "    with open(file_path, 'r') as file:\n",
    "        lines = file.readlines()\n",
    "\n",
    "    processed_lines = []\n",
    "    for line in lines:\n",
    "        parts = line.split('\\t')\n",
    "        if len(parts) > 1:\n",
    "            processed_lines.append(parts[1].strip())\n",
    "    \n",
    "    return processed_lines\n",
    "\n",
    "# Read and process GT file\n",
    "gt_file_path = f\"{folder}/decode_librispeech_test_wavlm_beam4_gt\"\n",
    "gt = read_and_process_file(gt_file_path)\n",
    "\n",
    "# Read and process PRED file\n",
    "pred_file_path = f\"{folder}/decode_librispeech_test_wavlm_beam4_pred\"\n",
    "pred = read_and_process_file(pred_file_path)\n",
    "\n",
    "# Print lengths of GT and PRED lists to ensure they are the same\n",
    "print(f\"Number of GT lines: {len(gt)}\")\n",
    "print(f\"Number of PRED lines: {len(pred)}\")\n",
    "\n",
    "# Calculate WER\n",
    "if len(gt) == len(pred):\n",
    "    wer_score = wer(gt, pred)\n",
    "    print(f\"Word Error Rate (WER): {wer_score}\")\n",
    "else:\n",
    "    print(\"Error: The number of lines in the GT and PRED files do not match.\")\n"
   ]
  },
  {
   "cell_type": "code",
   "execution_count": 3,
   "metadata": {},
   "outputs": [
    {
     "name": "stdout",
     "output_type": "stream",
     "text": [
      "Collecting jiwer\n",
      "  Using cached jiwer-3.0.4-py3-none-any.whl.metadata (2.6 kB)\n",
      "Requirement already satisfied: click<9.0.0,>=8.1.3 in /home/zhang.jinda1/ondemand/data/sys/dashboard/batch_connect/sys/jupyterlab/output/40eea94f-a022-4f53-98a6-de48c795bb9a/slamenv/lib/python3.11/site-packages (from jiwer) (8.1.7)\n",
      "Collecting rapidfuzz<4,>=3 (from jiwer)\n",
      "  Downloading rapidfuzz-3.9.4-cp311-cp311-manylinux_2_17_x86_64.manylinux2014_x86_64.whl.metadata (12 kB)\n",
      "Using cached jiwer-3.0.4-py3-none-any.whl (21 kB)\n",
      "Downloading rapidfuzz-3.9.4-cp311-cp311-manylinux_2_17_x86_64.manylinux2014_x86_64.whl (3.4 MB)\n",
      "\u001b[2K   \u001b[90m━━━━━━━━━━━━━━━━━━━━━━━━━━━━━━━━━━━━━━━━\u001b[0m \u001b[32m3.4/3.4 MB\u001b[0m \u001b[31m7.7 MB/s\u001b[0m eta \u001b[36m0:00:00\u001b[0m00:01\u001b[0m00:01\u001b[0m\n",
      "\u001b[?25hInstalling collected packages: rapidfuzz, jiwer\n",
      "Successfully installed jiwer-3.0.4 rapidfuzz-3.9.4\n"
     ]
    }
   ],
   "source": [
    "!pip install jiwer"
   ]
  },
  {
   "cell_type": "code",
   "execution_count": null,
   "metadata": {},
   "outputs": [],
   "source": []
  }
 ],
 "metadata": {
  "kernelspec": {
   "display_name": "Python 3",
   "language": "python",
   "name": "python3"
  },
  "language_info": {
   "codemirror_mode": {
    "name": "ipython",
    "version": 3
   },
   "file_extension": ".py",
   "mimetype": "text/x-python",
   "name": "python",
   "nbconvert_exporter": "python",
   "pygments_lexer": "ipython3",
   "version": "3.10.14"
  }
 },
 "nbformat": 4,
 "nbformat_minor": 2
}
