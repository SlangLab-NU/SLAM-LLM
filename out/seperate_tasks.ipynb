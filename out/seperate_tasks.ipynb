{
 "cells": [
  {
   "cell_type": "code",
   "execution_count": 1,
   "metadata": {},
   "outputs": [
    {
     "name": "stdout",
     "output_type": "stream",
     "text": [
      "Separation complete. Files created for words and phonemes.\n"
     ]
    }
   ],
   "source": [
    "# Folder path for input and output files\n",
    "folder_path = \"/work/van-speech-nlp/jindaznb/jslpnb/mllm_experiments/slam-llm/out/ami_phoneme_seperate_wavlm_TinyLlama_dual_peft_phoneme_seperate/\"  # Replace with your specific folder path\n",
    "\n",
    "# File paths with folder path prepended\n",
    "gt_file = folder_path + \"decode_test_beam4_gt\"\n",
    "pred_file = folder_path + \"decode_test_beam4_pred\"\n",
    "\n",
    "# Output file paths\n",
    "gt_word_file = folder_path + \"decode_test_beam4_gt_word.txt\"\n",
    "gt_phoneme_file = folder_path + \"decode_test_beam4_gt_phoneme.txt\"\n",
    "pred_word_file = folder_path + \"decode_test_beam4_pred_word.txt\"\n",
    "pred_phoneme_file = folder_path + \"decode_test_beam4_pred_phoneme.txt\"\n",
    "\n",
    "def separate_word_phoneme(input_file, word_output_file, phoneme_output_file):\n",
    "    with open(input_file, \"r\") as infile, \\\n",
    "         open(word_output_file, \"w\") as word_file, \\\n",
    "         open(phoneme_output_file, \"w\") as phoneme_file:\n",
    "        \n",
    "        lines = infile.readlines()\n",
    "        \n",
    "        # Separate into word and phoneme lines\n",
    "        for i, line in enumerate(lines):\n",
    "            if i % 2 == 0:  # Odd lines (0-based index) are words\n",
    "                word_file.write(line)\n",
    "            else:  # Even lines (0-based index) are phonemes\n",
    "                phoneme_file.write(line)\n",
    "\n",
    "# Process both ground truth (gt) and prediction (pred) files\n",
    "separate_word_phoneme(gt_file, gt_word_file, gt_phoneme_file)\n",
    "separate_word_phoneme(pred_file, pred_word_file, pred_phoneme_file)\n",
    "\n",
    "print(\"Separation complete. Files created for words and phonemes.\")"
   ]
  },
  {
   "cell_type": "code",
   "execution_count": null,
   "metadata": {},
   "outputs": [],
   "source": []
  }
 ],
 "metadata": {
  "kernelspec": {
   "display_name": "Python 3",
   "language": "python",
   "name": "python3"
  },
  "language_info": {
   "codemirror_mode": {
    "name": "ipython",
    "version": 3
   },
   "file_extension": ".py",
   "mimetype": "text/x-python",
   "name": "python",
   "nbconvert_exporter": "python",
   "pygments_lexer": "ipython3",
   "version": "3.10.14"
  },
  "orig_nbformat": 4
 },
 "nbformat": 4,
 "nbformat_minor": 2
}
